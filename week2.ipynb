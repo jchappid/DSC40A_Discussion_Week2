{
 "cells": [
  {
   "cell_type": "code",
   "execution_count": 1,
   "metadata": {
    "slideshow": {
     "slide_type": "skip"
    }
   },
   "outputs": [],
   "source": [
    "import seaborn as sns\n",
    "import numpy as np\n",
    "import pandas as pd\n",
    "import matplotlib.pyplot as plt\n",
    "from matplotlib.axes import Axes\n",
    "import warnings \n",
    "from ipywidgets import interact, fixed\n",
    "import random\n",
    "import scipy\n",
    "warnings.filterwarnings(\"ignore\") "
   ]
  },
  {
   "cell_type": "code",
   "execution_count": 2,
   "metadata": {
    "slideshow": {
     "slide_type": "skip"
    }
   },
   "outputs": [],
   "source": [
    "def get_random_dataset(n):\n",
    "    return [random.randint(0,1000) / 10 for x in range(n)]"
   ]
  },
  {
   "cell_type": "code",
   "execution_count": 3,
   "metadata": {
    "slideshow": {
     "slide_type": "skip"
    }
   },
   "outputs": [],
   "source": [
    "def plot_distribution(y, extra_points = [], plot=sns.stripplot, size=(10,1), set_lims=True):\n",
    "    plt.figure(figsize=size)\n",
    "\n",
    "    ax = plot(y)\n",
    "    sns.rugplot(y)\n",
    "    \n",
    "    for x, color in extra_points:\n",
    "        ax.add_line(Axes.axvline(ax, x=x, c=color))\n",
    "    \n",
    "    if set_lims:\n",
    "        plt.xlim((0,100))\n",
    "    plt.title(\"Distribution of Values\")\n",
    "    plt.xlabel(\"value\");\n",
    "    \n",
    "    plt.show()"
   ]
  },
  {
   "cell_type": "code",
   "execution_count": 4,
   "metadata": {
    "slideshow": {
     "slide_type": "skip"
    }
   },
   "outputs": [],
   "source": [
    "def plot_random(n):\n",
    "    y = get_random_dataset(n)\n",
    "    plot_distribution(y)\n",
    "    print(y)"
   ]
  },
  {
   "cell_type": "markdown",
   "metadata": {
    "slideshow": {
     "slide_type": "notes"
    }
   },
   "source": [
    "# Week 2 Discussion\n",
    "DSC 40A\n",
    "\n",
    "Sujith Chappidi"
   ]
  },
  {
   "cell_type": "markdown",
   "metadata": {
    "slideshow": {
     "slide_type": "slide"
    }
   },
   "source": [
    "# Other Loss Functions in Code"
   ]
  },
  {
   "cell_type": "code",
   "execution_count": 5,
   "metadata": {
    "slideshow": {
     "slide_type": "fragment"
    }
   },
   "outputs": [],
   "source": [
    "def incorrect_loss(y, h):\n",
    "    loss = 0\n",
    "    for y_i in y:\n",
    "        if y_i != h:\n",
    "            loss += 1\n",
    "    return loss    "
   ]
  },
  {
   "cell_type": "code",
   "execution_count": 6,
   "metadata": {
    "slideshow": {
     "slide_type": "fragment"
    }
   },
   "outputs": [],
   "source": [
    "def furthest_point_loss(y, h):\n",
    "    return max(abs(max(y)-h), abs(min(y)-h))"
   ]
  },
  {
   "cell_type": "markdown",
   "metadata": {
    "slideshow": {
     "slide_type": "subslide"
    }
   },
   "source": [
    "## Total Absolute Distance\n",
    "Sum of absolute distances between all points and h"
   ]
  },
  {
   "cell_type": "code",
   "execution_count": 7,
   "metadata": {
    "slideshow": {
     "slide_type": "fragment"
    }
   },
   "outputs": [],
   "source": [
    "def mae_loss(y, h):\n",
    "    loss = 0\n",
    "    for y_i in y:\n",
    "        loss += abs(y_i - h)\n",
    "    \n",
    "    return loss"
   ]
  },
  {
   "cell_type": "code",
   "execution_count": 8,
   "metadata": {
    "slideshow": {
     "slide_type": "fragment"
    }
   },
   "outputs": [],
   "source": [
    "def fast_mae_loss(y, h):\n",
    "    return sum([abs(y_i - h) for y_i in y])"
   ]
  },
  {
   "cell_type": "markdown",
   "metadata": {
    "slideshow": {
     "slide_type": "subslide"
    }
   },
   "source": [
    "## Total Squared Distance\n",
    "Sum of squared distances between all points and h"
   ]
  },
  {
   "cell_type": "code",
   "execution_count": 9,
   "metadata": {
    "slideshow": {
     "slide_type": "fragment"
    }
   },
   "outputs": [],
   "source": [
    "def mse_loss(y, h):\n",
    "    loss = 0\n",
    "    for y_i in y:\n",
    "        loss += (y_i - h) ** 2\n",
    "    \n",
    "    return loss"
   ]
  },
  {
   "cell_type": "code",
   "execution_count": 10,
   "metadata": {
    "slideshow": {
     "slide_type": "fragment"
    }
   },
   "outputs": [],
   "source": [
    "def fast_mse_loss(y, h):\n",
    "    return sum([(y_i - h) ** 2 for y_i in h])"
   ]
  },
  {
   "cell_type": "code",
   "execution_count": 11,
   "metadata": {
    "slideshow": {
     "slide_type": "skip"
    }
   },
   "outputs": [],
   "source": [
    "loss_functions = {\"number incorrect\" : incorrect_loss, \"furthest distance\" : furthest_point_loss, \"total absolute distance\" : mae_loss, \"total squared distance\" : mse_loss}"
   ]
  },
  {
   "cell_type": "markdown",
   "metadata": {
    "slideshow": {
     "slide_type": "subslide"
    }
   },
   "source": [
    "# Cereal Dataset"
   ]
  },
  {
   "cell_type": "code",
   "execution_count": 12,
   "metadata": {
    "slideshow": {
     "slide_type": "subslide"
    }
   },
   "outputs": [
    {
     "data": {
      "text/plain": [
       "(77, 15)"
      ]
     },
     "execution_count": 12,
     "metadata": {},
     "output_type": "execute_result"
    }
   ],
   "source": [
    "cereal = pd.read_csv(\"data/cereal.csv\").set_index('name')\n",
    "cereal.shape"
   ]
  },
  {
   "cell_type": "code",
   "execution_count": 13,
   "metadata": {
    "slideshow": {
     "slide_type": "fragment"
    }
   },
   "outputs": [
    {
     "data": {
      "text/html": [
       "<div>\n",
       "<table border=\"1\" class=\"dataframe\">\n",
       "  <thead>\n",
       "    <tr style=\"text-align: right;\">\n",
       "      <th></th>\n",
       "      <th>mfr</th>\n",
       "      <th>type</th>\n",
       "      <th>calories</th>\n",
       "      <th>protein</th>\n",
       "      <th>fat</th>\n",
       "      <th>sodium</th>\n",
       "      <th>fiber</th>\n",
       "      <th>carbo</th>\n",
       "      <th>sugars</th>\n",
       "      <th>potass</th>\n",
       "      <th>vitamins</th>\n",
       "      <th>shelf</th>\n",
       "      <th>weight</th>\n",
       "      <th>cups</th>\n",
       "      <th>rating</th>\n",
       "    </tr>\n",
       "    <tr>\n",
       "      <th>name</th>\n",
       "      <th></th>\n",
       "      <th></th>\n",
       "      <th></th>\n",
       "      <th></th>\n",
       "      <th></th>\n",
       "      <th></th>\n",
       "      <th></th>\n",
       "      <th></th>\n",
       "      <th></th>\n",
       "      <th></th>\n",
       "      <th></th>\n",
       "      <th></th>\n",
       "      <th></th>\n",
       "      <th></th>\n",
       "      <th></th>\n",
       "    </tr>\n",
       "  </thead>\n",
       "  <tbody>\n",
       "    <tr>\n",
       "      <th>Mueslix Crispy Blend</th>\n",
       "      <td>K</td>\n",
       "      <td>C</td>\n",
       "      <td>160</td>\n",
       "      <td>3</td>\n",
       "      <td>2</td>\n",
       "      <td>150</td>\n",
       "      <td>3.0</td>\n",
       "      <td>17.0</td>\n",
       "      <td>13</td>\n",
       "      <td>160</td>\n",
       "      <td>25</td>\n",
       "      <td>3</td>\n",
       "      <td>1.50</td>\n",
       "      <td>0.67</td>\n",
       "      <td>30.313351</td>\n",
       "    </tr>\n",
       "    <tr>\n",
       "      <th>Muesli Raisins; Dates; &amp; Almonds</th>\n",
       "      <td>R</td>\n",
       "      <td>C</td>\n",
       "      <td>150</td>\n",
       "      <td>4</td>\n",
       "      <td>3</td>\n",
       "      <td>95</td>\n",
       "      <td>3.0</td>\n",
       "      <td>16.0</td>\n",
       "      <td>11</td>\n",
       "      <td>170</td>\n",
       "      <td>25</td>\n",
       "      <td>3</td>\n",
       "      <td>1.00</td>\n",
       "      <td>1.00</td>\n",
       "      <td>37.136863</td>\n",
       "    </tr>\n",
       "    <tr>\n",
       "      <th>Muesli Raisins; Peaches; &amp; Pecans</th>\n",
       "      <td>R</td>\n",
       "      <td>C</td>\n",
       "      <td>150</td>\n",
       "      <td>4</td>\n",
       "      <td>3</td>\n",
       "      <td>150</td>\n",
       "      <td>3.0</td>\n",
       "      <td>16.0</td>\n",
       "      <td>11</td>\n",
       "      <td>170</td>\n",
       "      <td>25</td>\n",
       "      <td>3</td>\n",
       "      <td>1.00</td>\n",
       "      <td>1.00</td>\n",
       "      <td>34.139765</td>\n",
       "    </tr>\n",
       "    <tr>\n",
       "      <th>Total Raisin Bran</th>\n",
       "      <td>G</td>\n",
       "      <td>C</td>\n",
       "      <td>140</td>\n",
       "      <td>3</td>\n",
       "      <td>1</td>\n",
       "      <td>190</td>\n",
       "      <td>4.0</td>\n",
       "      <td>15.0</td>\n",
       "      <td>14</td>\n",
       "      <td>230</td>\n",
       "      <td>100</td>\n",
       "      <td>3</td>\n",
       "      <td>1.50</td>\n",
       "      <td>1.00</td>\n",
       "      <td>28.592785</td>\n",
       "    </tr>\n",
       "    <tr>\n",
       "      <th>Just Right Fruit &amp; Nut</th>\n",
       "      <td>K</td>\n",
       "      <td>C</td>\n",
       "      <td>140</td>\n",
       "      <td>3</td>\n",
       "      <td>1</td>\n",
       "      <td>170</td>\n",
       "      <td>2.0</td>\n",
       "      <td>20.0</td>\n",
       "      <td>9</td>\n",
       "      <td>95</td>\n",
       "      <td>100</td>\n",
       "      <td>3</td>\n",
       "      <td>1.30</td>\n",
       "      <td>0.75</td>\n",
       "      <td>36.471512</td>\n",
       "    </tr>\n",
       "    <tr>\n",
       "      <th>Nutri-Grain Almond-Raisin</th>\n",
       "      <td>K</td>\n",
       "      <td>C</td>\n",
       "      <td>140</td>\n",
       "      <td>3</td>\n",
       "      <td>2</td>\n",
       "      <td>220</td>\n",
       "      <td>3.0</td>\n",
       "      <td>21.0</td>\n",
       "      <td>7</td>\n",
       "      <td>130</td>\n",
       "      <td>25</td>\n",
       "      <td>3</td>\n",
       "      <td>1.33</td>\n",
       "      <td>0.67</td>\n",
       "      <td>40.692320</td>\n",
       "    </tr>\n",
       "    <tr>\n",
       "      <th>Oatmeal Raisin Crisp</th>\n",
       "      <td>G</td>\n",
       "      <td>C</td>\n",
       "      <td>130</td>\n",
       "      <td>3</td>\n",
       "      <td>2</td>\n",
       "      <td>170</td>\n",
       "      <td>1.5</td>\n",
       "      <td>13.5</td>\n",
       "      <td>10</td>\n",
       "      <td>120</td>\n",
       "      <td>25</td>\n",
       "      <td>3</td>\n",
       "      <td>1.25</td>\n",
       "      <td>0.50</td>\n",
       "      <td>30.450843</td>\n",
       "    </tr>\n",
       "    <tr>\n",
       "      <th>Basic 4</th>\n",
       "      <td>G</td>\n",
       "      <td>C</td>\n",
       "      <td>130</td>\n",
       "      <td>3</td>\n",
       "      <td>2</td>\n",
       "      <td>210</td>\n",
       "      <td>2.0</td>\n",
       "      <td>18.0</td>\n",
       "      <td>8</td>\n",
       "      <td>100</td>\n",
       "      <td>25</td>\n",
       "      <td>3</td>\n",
       "      <td>1.33</td>\n",
       "      <td>0.75</td>\n",
       "      <td>37.038562</td>\n",
       "    </tr>\n",
       "    <tr>\n",
       "      <th>Post Nat. Raisin Bran</th>\n",
       "      <td>P</td>\n",
       "      <td>C</td>\n",
       "      <td>120</td>\n",
       "      <td>3</td>\n",
       "      <td>1</td>\n",
       "      <td>200</td>\n",
       "      <td>6.0</td>\n",
       "      <td>11.0</td>\n",
       "      <td>14</td>\n",
       "      <td>260</td>\n",
       "      <td>25</td>\n",
       "      <td>3</td>\n",
       "      <td>1.33</td>\n",
       "      <td>0.67</td>\n",
       "      <td>37.840594</td>\n",
       "    </tr>\n",
       "    <tr>\n",
       "      <th>Honey Graham Ohs</th>\n",
       "      <td>Q</td>\n",
       "      <td>C</td>\n",
       "      <td>120</td>\n",
       "      <td>1</td>\n",
       "      <td>2</td>\n",
       "      <td>220</td>\n",
       "      <td>1.0</td>\n",
       "      <td>12.0</td>\n",
       "      <td>11</td>\n",
       "      <td>45</td>\n",
       "      <td>25</td>\n",
       "      <td>2</td>\n",
       "      <td>1.00</td>\n",
       "      <td>1.00</td>\n",
       "      <td>21.871292</td>\n",
       "    </tr>\n",
       "    <tr>\n",
       "      <th>Fruitful Bran</th>\n",
       "      <td>K</td>\n",
       "      <td>C</td>\n",
       "      <td>120</td>\n",
       "      <td>3</td>\n",
       "      <td>0</td>\n",
       "      <td>240</td>\n",
       "      <td>5.0</td>\n",
       "      <td>14.0</td>\n",
       "      <td>12</td>\n",
       "      <td>190</td>\n",
       "      <td>25</td>\n",
       "      <td>3</td>\n",
       "      <td>1.33</td>\n",
       "      <td>0.67</td>\n",
       "      <td>41.015492</td>\n",
       "    </tr>\n",
       "    <tr>\n",
       "      <th>Fruit &amp; Fibre Dates; Walnuts; and Oats</th>\n",
       "      <td>P</td>\n",
       "      <td>C</td>\n",
       "      <td>120</td>\n",
       "      <td>3</td>\n",
       "      <td>2</td>\n",
       "      <td>160</td>\n",
       "      <td>5.0</td>\n",
       "      <td>12.0</td>\n",
       "      <td>10</td>\n",
       "      <td>200</td>\n",
       "      <td>25</td>\n",
       "      <td>3</td>\n",
       "      <td>1.25</td>\n",
       "      <td>0.67</td>\n",
       "      <td>40.917047</td>\n",
       "    </tr>\n",
       "    <tr>\n",
       "      <th>100% Natural Bran</th>\n",
       "      <td>Q</td>\n",
       "      <td>C</td>\n",
       "      <td>120</td>\n",
       "      <td>3</td>\n",
       "      <td>5</td>\n",
       "      <td>15</td>\n",
       "      <td>2.0</td>\n",
       "      <td>8.0</td>\n",
       "      <td>8</td>\n",
       "      <td>135</td>\n",
       "      <td>0</td>\n",
       "      <td>3</td>\n",
       "      <td>1.00</td>\n",
       "      <td>1.00</td>\n",
       "      <td>33.983679</td>\n",
       "    </tr>\n",
       "    <tr>\n",
       "      <th>Nut&amp;Honey Crunch</th>\n",
       "      <td>K</td>\n",
       "      <td>C</td>\n",
       "      <td>120</td>\n",
       "      <td>2</td>\n",
       "      <td>1</td>\n",
       "      <td>190</td>\n",
       "      <td>0.0</td>\n",
       "      <td>15.0</td>\n",
       "      <td>9</td>\n",
       "      <td>40</td>\n",
       "      <td>25</td>\n",
       "      <td>2</td>\n",
       "      <td>1.00</td>\n",
       "      <td>0.67</td>\n",
       "      <td>29.924285</td>\n",
       "    </tr>\n",
       "    <tr>\n",
       "      <th>Great Grains Pecan</th>\n",
       "      <td>P</td>\n",
       "      <td>C</td>\n",
       "      <td>120</td>\n",
       "      <td>3</td>\n",
       "      <td>3</td>\n",
       "      <td>75</td>\n",
       "      <td>3.0</td>\n",
       "      <td>13.0</td>\n",
       "      <td>4</td>\n",
       "      <td>100</td>\n",
       "      <td>25</td>\n",
       "      <td>3</td>\n",
       "      <td>1.00</td>\n",
       "      <td>0.33</td>\n",
       "      <td>45.811716</td>\n",
       "    </tr>\n",
       "    <tr>\n",
       "      <th>Raisin Bran</th>\n",
       "      <td>K</td>\n",
       "      <td>C</td>\n",
       "      <td>120</td>\n",
       "      <td>3</td>\n",
       "      <td>1</td>\n",
       "      <td>210</td>\n",
       "      <td>5.0</td>\n",
       "      <td>14.0</td>\n",
       "      <td>12</td>\n",
       "      <td>240</td>\n",
       "      <td>25</td>\n",
       "      <td>2</td>\n",
       "      <td>1.33</td>\n",
       "      <td>0.75</td>\n",
       "      <td>39.259197</td>\n",
       "    </tr>\n",
       "    <tr>\n",
       "      <th>Cinnamon Toast Crunch</th>\n",
       "      <td>G</td>\n",
       "      <td>C</td>\n",
       "      <td>120</td>\n",
       "      <td>1</td>\n",
       "      <td>3</td>\n",
       "      <td>210</td>\n",
       "      <td>0.0</td>\n",
       "      <td>13.0</td>\n",
       "      <td>9</td>\n",
       "      <td>45</td>\n",
       "      <td>25</td>\n",
       "      <td>2</td>\n",
       "      <td>1.00</td>\n",
       "      <td>0.75</td>\n",
       "      <td>19.823573</td>\n",
       "    </tr>\n",
       "    <tr>\n",
       "      <th>Cap'n'Crunch</th>\n",
       "      <td>Q</td>\n",
       "      <td>C</td>\n",
       "      <td>120</td>\n",
       "      <td>1</td>\n",
       "      <td>2</td>\n",
       "      <td>220</td>\n",
       "      <td>0.0</td>\n",
       "      <td>12.0</td>\n",
       "      <td>12</td>\n",
       "      <td>35</td>\n",
       "      <td>25</td>\n",
       "      <td>2</td>\n",
       "      <td>1.00</td>\n",
       "      <td>0.75</td>\n",
       "      <td>18.042851</td>\n",
       "    </tr>\n",
       "    <tr>\n",
       "      <th>Grape-Nuts</th>\n",
       "      <td>P</td>\n",
       "      <td>C</td>\n",
       "      <td>110</td>\n",
       "      <td>3</td>\n",
       "      <td>0</td>\n",
       "      <td>170</td>\n",
       "      <td>3.0</td>\n",
       "      <td>17.0</td>\n",
       "      <td>3</td>\n",
       "      <td>90</td>\n",
       "      <td>25</td>\n",
       "      <td>3</td>\n",
       "      <td>1.00</td>\n",
       "      <td>0.25</td>\n",
       "      <td>53.371007</td>\n",
       "    </tr>\n",
       "    <tr>\n",
       "      <th>Rice Chex</th>\n",
       "      <td>R</td>\n",
       "      <td>C</td>\n",
       "      <td>110</td>\n",
       "      <td>1</td>\n",
       "      <td>0</td>\n",
       "      <td>240</td>\n",
       "      <td>0.0</td>\n",
       "      <td>23.0</td>\n",
       "      <td>2</td>\n",
       "      <td>30</td>\n",
       "      <td>25</td>\n",
       "      <td>1</td>\n",
       "      <td>1.00</td>\n",
       "      <td>1.13</td>\n",
       "      <td>41.998933</td>\n",
       "    </tr>\n",
       "    <tr>\n",
       "      <th>Rice Krispies</th>\n",
       "      <td>K</td>\n",
       "      <td>C</td>\n",
       "      <td>110</td>\n",
       "      <td>2</td>\n",
       "      <td>0</td>\n",
       "      <td>290</td>\n",
       "      <td>0.0</td>\n",
       "      <td>22.0</td>\n",
       "      <td>3</td>\n",
       "      <td>35</td>\n",
       "      <td>25</td>\n",
       "      <td>1</td>\n",
       "      <td>1.00</td>\n",
       "      <td>1.00</td>\n",
       "      <td>40.560159</td>\n",
       "    </tr>\n",
       "    <tr>\n",
       "      <th>Lucky Charms</th>\n",
       "      <td>G</td>\n",
       "      <td>C</td>\n",
       "      <td>110</td>\n",
       "      <td>2</td>\n",
       "      <td>1</td>\n",
       "      <td>180</td>\n",
       "      <td>0.0</td>\n",
       "      <td>12.0</td>\n",
       "      <td>12</td>\n",
       "      <td>55</td>\n",
       "      <td>25</td>\n",
       "      <td>2</td>\n",
       "      <td>1.00</td>\n",
       "      <td>1.00</td>\n",
       "      <td>26.734515</td>\n",
       "    </tr>\n",
       "    <tr>\n",
       "      <th>Kix</th>\n",
       "      <td>G</td>\n",
       "      <td>C</td>\n",
       "      <td>110</td>\n",
       "      <td>2</td>\n",
       "      <td>1</td>\n",
       "      <td>260</td>\n",
       "      <td>0.0</td>\n",
       "      <td>21.0</td>\n",
       "      <td>3</td>\n",
       "      <td>40</td>\n",
       "      <td>25</td>\n",
       "      <td>2</td>\n",
       "      <td>1.00</td>\n",
       "      <td>1.50</td>\n",
       "      <td>39.241114</td>\n",
       "    </tr>\n",
       "    <tr>\n",
       "      <th>Smacks</th>\n",
       "      <td>K</td>\n",
       "      <td>C</td>\n",
       "      <td>110</td>\n",
       "      <td>2</td>\n",
       "      <td>1</td>\n",
       "      <td>70</td>\n",
       "      <td>1.0</td>\n",
       "      <td>9.0</td>\n",
       "      <td>15</td>\n",
       "      <td>40</td>\n",
       "      <td>25</td>\n",
       "      <td>2</td>\n",
       "      <td>1.00</td>\n",
       "      <td>0.75</td>\n",
       "      <td>31.230054</td>\n",
       "    </tr>\n",
       "    <tr>\n",
       "      <th>Special K</th>\n",
       "      <td>K</td>\n",
       "      <td>C</td>\n",
       "      <td>110</td>\n",
       "      <td>6</td>\n",
       "      <td>0</td>\n",
       "      <td>230</td>\n",
       "      <td>1.0</td>\n",
       "      <td>16.0</td>\n",
       "      <td>3</td>\n",
       "      <td>55</td>\n",
       "      <td>25</td>\n",
       "      <td>1</td>\n",
       "      <td>1.00</td>\n",
       "      <td>1.00</td>\n",
       "      <td>53.131324</td>\n",
       "    </tr>\n",
       "    <tr>\n",
       "      <th>Honey-comb</th>\n",
       "      <td>P</td>\n",
       "      <td>C</td>\n",
       "      <td>110</td>\n",
       "      <td>1</td>\n",
       "      <td>0</td>\n",
       "      <td>180</td>\n",
       "      <td>0.0</td>\n",
       "      <td>14.0</td>\n",
       "      <td>11</td>\n",
       "      <td>35</td>\n",
       "      <td>25</td>\n",
       "      <td>1</td>\n",
       "      <td>1.00</td>\n",
       "      <td>1.33</td>\n",
       "      <td>28.742414</td>\n",
       "    </tr>\n",
       "    <tr>\n",
       "      <th>Honey Nut Cheerios</th>\n",
       "      <td>G</td>\n",
       "      <td>C</td>\n",
       "      <td>110</td>\n",
       "      <td>3</td>\n",
       "      <td>1</td>\n",
       "      <td>250</td>\n",
       "      <td>1.5</td>\n",
       "      <td>11.5</td>\n",
       "      <td>10</td>\n",
       "      <td>90</td>\n",
       "      <td>25</td>\n",
       "      <td>1</td>\n",
       "      <td>1.00</td>\n",
       "      <td>0.75</td>\n",
       "      <td>31.072217</td>\n",
       "    </tr>\n",
       "    <tr>\n",
       "      <th>Total Corn Flakes</th>\n",
       "      <td>G</td>\n",
       "      <td>C</td>\n",
       "      <td>110</td>\n",
       "      <td>2</td>\n",
       "      <td>1</td>\n",
       "      <td>200</td>\n",
       "      <td>0.0</td>\n",
       "      <td>21.0</td>\n",
       "      <td>3</td>\n",
       "      <td>35</td>\n",
       "      <td>100</td>\n",
       "      <td>3</td>\n",
       "      <td>1.00</td>\n",
       "      <td>1.00</td>\n",
       "      <td>38.839746</td>\n",
       "    </tr>\n",
       "    <tr>\n",
       "      <th>Triples</th>\n",
       "      <td>G</td>\n",
       "      <td>C</td>\n",
       "      <td>110</td>\n",
       "      <td>2</td>\n",
       "      <td>1</td>\n",
       "      <td>250</td>\n",
       "      <td>0.0</td>\n",
       "      <td>21.0</td>\n",
       "      <td>3</td>\n",
       "      <td>60</td>\n",
       "      <td>25</td>\n",
       "      <td>3</td>\n",
       "      <td>1.00</td>\n",
       "      <td>0.75</td>\n",
       "      <td>39.106174</td>\n",
       "    </tr>\n",
       "    <tr>\n",
       "      <th>Trix</th>\n",
       "      <td>G</td>\n",
       "      <td>C</td>\n",
       "      <td>110</td>\n",
       "      <td>1</td>\n",
       "      <td>1</td>\n",
       "      <td>140</td>\n",
       "      <td>0.0</td>\n",
       "      <td>13.0</td>\n",
       "      <td>12</td>\n",
       "      <td>25</td>\n",
       "      <td>25</td>\n",
       "      <td>2</td>\n",
       "      <td>1.00</td>\n",
       "      <td>1.00</td>\n",
       "      <td>27.753301</td>\n",
       "    </tr>\n",
       "    <tr>\n",
       "      <th>...</th>\n",
       "      <td>...</td>\n",
       "      <td>...</td>\n",
       "      <td>...</td>\n",
       "      <td>...</td>\n",
       "      <td>...</td>\n",
       "      <td>...</td>\n",
       "      <td>...</td>\n",
       "      <td>...</td>\n",
       "      <td>...</td>\n",
       "      <td>...</td>\n",
       "      <td>...</td>\n",
       "      <td>...</td>\n",
       "      <td>...</td>\n",
       "      <td>...</td>\n",
       "      <td>...</td>\n",
       "    </tr>\n",
       "    <tr>\n",
       "      <th>Product 19</th>\n",
       "      <td>K</td>\n",
       "      <td>C</td>\n",
       "      <td>100</td>\n",
       "      <td>3</td>\n",
       "      <td>0</td>\n",
       "      <td>320</td>\n",
       "      <td>1.0</td>\n",
       "      <td>20.0</td>\n",
       "      <td>3</td>\n",
       "      <td>45</td>\n",
       "      <td>100</td>\n",
       "      <td>3</td>\n",
       "      <td>1.00</td>\n",
       "      <td>1.00</td>\n",
       "      <td>41.503540</td>\n",
       "    </tr>\n",
       "    <tr>\n",
       "      <th>Raisin Nut Bran</th>\n",
       "      <td>G</td>\n",
       "      <td>C</td>\n",
       "      <td>100</td>\n",
       "      <td>3</td>\n",
       "      <td>2</td>\n",
       "      <td>140</td>\n",
       "      <td>2.5</td>\n",
       "      <td>10.5</td>\n",
       "      <td>8</td>\n",
       "      <td>140</td>\n",
       "      <td>25</td>\n",
       "      <td>3</td>\n",
       "      <td>1.00</td>\n",
       "      <td>0.50</td>\n",
       "      <td>39.703400</td>\n",
       "    </tr>\n",
       "    <tr>\n",
       "      <th>Quaker Oatmeal</th>\n",
       "      <td>Q</td>\n",
       "      <td>H</td>\n",
       "      <td>100</td>\n",
       "      <td>5</td>\n",
       "      <td>2</td>\n",
       "      <td>0</td>\n",
       "      <td>2.7</td>\n",
       "      <td>-1.0</td>\n",
       "      <td>-1</td>\n",
       "      <td>110</td>\n",
       "      <td>0</td>\n",
       "      <td>1</td>\n",
       "      <td>1.00</td>\n",
       "      <td>0.67</td>\n",
       "      <td>50.828392</td>\n",
       "    </tr>\n",
       "    <tr>\n",
       "      <th>Quaker Oat Squares</th>\n",
       "      <td>Q</td>\n",
       "      <td>C</td>\n",
       "      <td>100</td>\n",
       "      <td>4</td>\n",
       "      <td>1</td>\n",
       "      <td>135</td>\n",
       "      <td>2.0</td>\n",
       "      <td>14.0</td>\n",
       "      <td>6</td>\n",
       "      <td>110</td>\n",
       "      <td>25</td>\n",
       "      <td>3</td>\n",
       "      <td>1.00</td>\n",
       "      <td>0.50</td>\n",
       "      <td>49.511874</td>\n",
       "    </tr>\n",
       "    <tr>\n",
       "      <th>Wheaties</th>\n",
       "      <td>G</td>\n",
       "      <td>C</td>\n",
       "      <td>100</td>\n",
       "      <td>3</td>\n",
       "      <td>1</td>\n",
       "      <td>200</td>\n",
       "      <td>3.0</td>\n",
       "      <td>17.0</td>\n",
       "      <td>3</td>\n",
       "      <td>110</td>\n",
       "      <td>25</td>\n",
       "      <td>1</td>\n",
       "      <td>1.00</td>\n",
       "      <td>1.00</td>\n",
       "      <td>51.592193</td>\n",
       "    </tr>\n",
       "    <tr>\n",
       "      <th>Total Whole Grain</th>\n",
       "      <td>G</td>\n",
       "      <td>C</td>\n",
       "      <td>100</td>\n",
       "      <td>3</td>\n",
       "      <td>1</td>\n",
       "      <td>200</td>\n",
       "      <td>3.0</td>\n",
       "      <td>16.0</td>\n",
       "      <td>3</td>\n",
       "      <td>110</td>\n",
       "      <td>100</td>\n",
       "      <td>3</td>\n",
       "      <td>1.00</td>\n",
       "      <td>1.00</td>\n",
       "      <td>46.658844</td>\n",
       "    </tr>\n",
       "    <tr>\n",
       "      <th>Grape Nuts Flakes</th>\n",
       "      <td>P</td>\n",
       "      <td>C</td>\n",
       "      <td>100</td>\n",
       "      <td>3</td>\n",
       "      <td>1</td>\n",
       "      <td>140</td>\n",
       "      <td>3.0</td>\n",
       "      <td>15.0</td>\n",
       "      <td>5</td>\n",
       "      <td>85</td>\n",
       "      <td>25</td>\n",
       "      <td>3</td>\n",
       "      <td>1.00</td>\n",
       "      <td>0.88</td>\n",
       "      <td>52.076897</td>\n",
       "    </tr>\n",
       "    <tr>\n",
       "      <th>Wheat Chex</th>\n",
       "      <td>R</td>\n",
       "      <td>C</td>\n",
       "      <td>100</td>\n",
       "      <td>3</td>\n",
       "      <td>1</td>\n",
       "      <td>230</td>\n",
       "      <td>3.0</td>\n",
       "      <td>17.0</td>\n",
       "      <td>3</td>\n",
       "      <td>115</td>\n",
       "      <td>25</td>\n",
       "      <td>1</td>\n",
       "      <td>1.00</td>\n",
       "      <td>0.67</td>\n",
       "      <td>49.787445</td>\n",
       "    </tr>\n",
       "    <tr>\n",
       "      <th>Life</th>\n",
       "      <td>Q</td>\n",
       "      <td>C</td>\n",
       "      <td>100</td>\n",
       "      <td>4</td>\n",
       "      <td>2</td>\n",
       "      <td>150</td>\n",
       "      <td>2.0</td>\n",
       "      <td>12.0</td>\n",
       "      <td>6</td>\n",
       "      <td>95</td>\n",
       "      <td>25</td>\n",
       "      <td>2</td>\n",
       "      <td>1.00</td>\n",
       "      <td>0.67</td>\n",
       "      <td>45.328074</td>\n",
       "    </tr>\n",
       "    <tr>\n",
       "      <th>Double Chex</th>\n",
       "      <td>R</td>\n",
       "      <td>C</td>\n",
       "      <td>100</td>\n",
       "      <td>2</td>\n",
       "      <td>0</td>\n",
       "      <td>190</td>\n",
       "      <td>1.0</td>\n",
       "      <td>18.0</td>\n",
       "      <td>5</td>\n",
       "      <td>80</td>\n",
       "      <td>25</td>\n",
       "      <td>3</td>\n",
       "      <td>1.00</td>\n",
       "      <td>0.75</td>\n",
       "      <td>44.330856</td>\n",
       "    </tr>\n",
       "    <tr>\n",
       "      <th>Crispy Wheat &amp; Raisins</th>\n",
       "      <td>G</td>\n",
       "      <td>C</td>\n",
       "      <td>100</td>\n",
       "      <td>2</td>\n",
       "      <td>1</td>\n",
       "      <td>140</td>\n",
       "      <td>2.0</td>\n",
       "      <td>11.0</td>\n",
       "      <td>10</td>\n",
       "      <td>120</td>\n",
       "      <td>25</td>\n",
       "      <td>3</td>\n",
       "      <td>1.00</td>\n",
       "      <td>0.75</td>\n",
       "      <td>36.176196</td>\n",
       "    </tr>\n",
       "    <tr>\n",
       "      <th>Golden Crisp</th>\n",
       "      <td>P</td>\n",
       "      <td>C</td>\n",
       "      <td>100</td>\n",
       "      <td>2</td>\n",
       "      <td>0</td>\n",
       "      <td>45</td>\n",
       "      <td>0.0</td>\n",
       "      <td>11.0</td>\n",
       "      <td>15</td>\n",
       "      <td>40</td>\n",
       "      <td>25</td>\n",
       "      <td>1</td>\n",
       "      <td>1.00</td>\n",
       "      <td>0.88</td>\n",
       "      <td>35.252444</td>\n",
       "    </tr>\n",
       "    <tr>\n",
       "      <th>Frosted Mini-Wheats</th>\n",
       "      <td>K</td>\n",
       "      <td>C</td>\n",
       "      <td>100</td>\n",
       "      <td>3</td>\n",
       "      <td>0</td>\n",
       "      <td>0</td>\n",
       "      <td>3.0</td>\n",
       "      <td>14.0</td>\n",
       "      <td>7</td>\n",
       "      <td>100</td>\n",
       "      <td>25</td>\n",
       "      <td>2</td>\n",
       "      <td>1.00</td>\n",
       "      <td>0.80</td>\n",
       "      <td>58.345141</td>\n",
       "    </tr>\n",
       "    <tr>\n",
       "      <th>Maypo</th>\n",
       "      <td>A</td>\n",
       "      <td>H</td>\n",
       "      <td>100</td>\n",
       "      <td>4</td>\n",
       "      <td>1</td>\n",
       "      <td>0</td>\n",
       "      <td>0.0</td>\n",
       "      <td>16.0</td>\n",
       "      <td>3</td>\n",
       "      <td>95</td>\n",
       "      <td>25</td>\n",
       "      <td>2</td>\n",
       "      <td>1.00</td>\n",
       "      <td>1.00</td>\n",
       "      <td>54.850917</td>\n",
       "    </tr>\n",
       "    <tr>\n",
       "      <th>Cream of Wheat (Quick)</th>\n",
       "      <td>N</td>\n",
       "      <td>H</td>\n",
       "      <td>100</td>\n",
       "      <td>3</td>\n",
       "      <td>0</td>\n",
       "      <td>80</td>\n",
       "      <td>1.0</td>\n",
       "      <td>21.0</td>\n",
       "      <td>0</td>\n",
       "      <td>-1</td>\n",
       "      <td>0</td>\n",
       "      <td>2</td>\n",
       "      <td>1.00</td>\n",
       "      <td>1.00</td>\n",
       "      <td>64.533816</td>\n",
       "    </tr>\n",
       "    <tr>\n",
       "      <th>Multi-Grain Cheerios</th>\n",
       "      <td>G</td>\n",
       "      <td>C</td>\n",
       "      <td>100</td>\n",
       "      <td>2</td>\n",
       "      <td>1</td>\n",
       "      <td>220</td>\n",
       "      <td>2.0</td>\n",
       "      <td>15.0</td>\n",
       "      <td>6</td>\n",
       "      <td>90</td>\n",
       "      <td>25</td>\n",
       "      <td>1</td>\n",
       "      <td>1.00</td>\n",
       "      <td>1.00</td>\n",
       "      <td>40.105965</td>\n",
       "    </tr>\n",
       "    <tr>\n",
       "      <th>Corn Flakes</th>\n",
       "      <td>K</td>\n",
       "      <td>C</td>\n",
       "      <td>100</td>\n",
       "      <td>2</td>\n",
       "      <td>0</td>\n",
       "      <td>290</td>\n",
       "      <td>1.0</td>\n",
       "      <td>21.0</td>\n",
       "      <td>2</td>\n",
       "      <td>35</td>\n",
       "      <td>25</td>\n",
       "      <td>1</td>\n",
       "      <td>1.00</td>\n",
       "      <td>1.00</td>\n",
       "      <td>45.863324</td>\n",
       "    </tr>\n",
       "    <tr>\n",
       "      <th>Raisin Squares</th>\n",
       "      <td>K</td>\n",
       "      <td>C</td>\n",
       "      <td>90</td>\n",
       "      <td>2</td>\n",
       "      <td>0</td>\n",
       "      <td>0</td>\n",
       "      <td>2.0</td>\n",
       "      <td>15.0</td>\n",
       "      <td>6</td>\n",
       "      <td>110</td>\n",
       "      <td>25</td>\n",
       "      <td>3</td>\n",
       "      <td>1.00</td>\n",
       "      <td>0.50</td>\n",
       "      <td>55.333142</td>\n",
       "    </tr>\n",
       "    <tr>\n",
       "      <th>Nutri-grain Wheat</th>\n",
       "      <td>K</td>\n",
       "      <td>C</td>\n",
       "      <td>90</td>\n",
       "      <td>3</td>\n",
       "      <td>0</td>\n",
       "      <td>170</td>\n",
       "      <td>3.0</td>\n",
       "      <td>18.0</td>\n",
       "      <td>2</td>\n",
       "      <td>90</td>\n",
       "      <td>25</td>\n",
       "      <td>3</td>\n",
       "      <td>1.00</td>\n",
       "      <td>1.00</td>\n",
       "      <td>59.642837</td>\n",
       "    </tr>\n",
       "    <tr>\n",
       "      <th>Shredded Wheat 'n'Bran</th>\n",
       "      <td>N</td>\n",
       "      <td>C</td>\n",
       "      <td>90</td>\n",
       "      <td>3</td>\n",
       "      <td>0</td>\n",
       "      <td>0</td>\n",
       "      <td>4.0</td>\n",
       "      <td>19.0</td>\n",
       "      <td>0</td>\n",
       "      <td>140</td>\n",
       "      <td>0</td>\n",
       "      <td>1</td>\n",
       "      <td>1.00</td>\n",
       "      <td>0.67</td>\n",
       "      <td>74.472949</td>\n",
       "    </tr>\n",
       "    <tr>\n",
       "      <th>Shredded Wheat spoon size</th>\n",
       "      <td>N</td>\n",
       "      <td>C</td>\n",
       "      <td>90</td>\n",
       "      <td>3</td>\n",
       "      <td>0</td>\n",
       "      <td>0</td>\n",
       "      <td>3.0</td>\n",
       "      <td>20.0</td>\n",
       "      <td>0</td>\n",
       "      <td>120</td>\n",
       "      <td>0</td>\n",
       "      <td>1</td>\n",
       "      <td>1.00</td>\n",
       "      <td>0.67</td>\n",
       "      <td>72.801787</td>\n",
       "    </tr>\n",
       "    <tr>\n",
       "      <th>Bran Chex</th>\n",
       "      <td>R</td>\n",
       "      <td>C</td>\n",
       "      <td>90</td>\n",
       "      <td>2</td>\n",
       "      <td>1</td>\n",
       "      <td>200</td>\n",
       "      <td>4.0</td>\n",
       "      <td>15.0</td>\n",
       "      <td>6</td>\n",
       "      <td>125</td>\n",
       "      <td>25</td>\n",
       "      <td>1</td>\n",
       "      <td>1.00</td>\n",
       "      <td>0.67</td>\n",
       "      <td>49.120253</td>\n",
       "    </tr>\n",
       "    <tr>\n",
       "      <th>Strawberry Fruit Wheats</th>\n",
       "      <td>N</td>\n",
       "      <td>C</td>\n",
       "      <td>90</td>\n",
       "      <td>2</td>\n",
       "      <td>0</td>\n",
       "      <td>15</td>\n",
       "      <td>3.0</td>\n",
       "      <td>15.0</td>\n",
       "      <td>5</td>\n",
       "      <td>90</td>\n",
       "      <td>25</td>\n",
       "      <td>2</td>\n",
       "      <td>1.00</td>\n",
       "      <td>1.00</td>\n",
       "      <td>59.363993</td>\n",
       "    </tr>\n",
       "    <tr>\n",
       "      <th>Bran Flakes</th>\n",
       "      <td>P</td>\n",
       "      <td>C</td>\n",
       "      <td>90</td>\n",
       "      <td>3</td>\n",
       "      <td>0</td>\n",
       "      <td>210</td>\n",
       "      <td>5.0</td>\n",
       "      <td>13.0</td>\n",
       "      <td>5</td>\n",
       "      <td>190</td>\n",
       "      <td>25</td>\n",
       "      <td>3</td>\n",
       "      <td>1.00</td>\n",
       "      <td>0.67</td>\n",
       "      <td>53.313813</td>\n",
       "    </tr>\n",
       "    <tr>\n",
       "      <th>Shredded Wheat</th>\n",
       "      <td>N</td>\n",
       "      <td>C</td>\n",
       "      <td>80</td>\n",
       "      <td>2</td>\n",
       "      <td>0</td>\n",
       "      <td>0</td>\n",
       "      <td>3.0</td>\n",
       "      <td>16.0</td>\n",
       "      <td>0</td>\n",
       "      <td>95</td>\n",
       "      <td>0</td>\n",
       "      <td>1</td>\n",
       "      <td>0.83</td>\n",
       "      <td>1.00</td>\n",
       "      <td>68.235885</td>\n",
       "    </tr>\n",
       "    <tr>\n",
       "      <th>All-Bran</th>\n",
       "      <td>K</td>\n",
       "      <td>C</td>\n",
       "      <td>70</td>\n",
       "      <td>4</td>\n",
       "      <td>1</td>\n",
       "      <td>260</td>\n",
       "      <td>9.0</td>\n",
       "      <td>7.0</td>\n",
       "      <td>5</td>\n",
       "      <td>320</td>\n",
       "      <td>25</td>\n",
       "      <td>3</td>\n",
       "      <td>1.00</td>\n",
       "      <td>0.33</td>\n",
       "      <td>59.425505</td>\n",
       "    </tr>\n",
       "    <tr>\n",
       "      <th>100% Bran</th>\n",
       "      <td>N</td>\n",
       "      <td>C</td>\n",
       "      <td>70</td>\n",
       "      <td>4</td>\n",
       "      <td>1</td>\n",
       "      <td>130</td>\n",
       "      <td>10.0</td>\n",
       "      <td>5.0</td>\n",
       "      <td>6</td>\n",
       "      <td>280</td>\n",
       "      <td>25</td>\n",
       "      <td>3</td>\n",
       "      <td>1.00</td>\n",
       "      <td>0.33</td>\n",
       "      <td>68.402973</td>\n",
       "    </tr>\n",
       "    <tr>\n",
       "      <th>All-Bran with Extra Fiber</th>\n",
       "      <td>K</td>\n",
       "      <td>C</td>\n",
       "      <td>50</td>\n",
       "      <td>4</td>\n",
       "      <td>0</td>\n",
       "      <td>140</td>\n",
       "      <td>14.0</td>\n",
       "      <td>8.0</td>\n",
       "      <td>0</td>\n",
       "      <td>330</td>\n",
       "      <td>25</td>\n",
       "      <td>3</td>\n",
       "      <td>1.00</td>\n",
       "      <td>0.50</td>\n",
       "      <td>93.704912</td>\n",
       "    </tr>\n",
       "    <tr>\n",
       "      <th>Puffed Wheat</th>\n",
       "      <td>Q</td>\n",
       "      <td>C</td>\n",
       "      <td>50</td>\n",
       "      <td>2</td>\n",
       "      <td>0</td>\n",
       "      <td>0</td>\n",
       "      <td>1.0</td>\n",
       "      <td>10.0</td>\n",
       "      <td>0</td>\n",
       "      <td>50</td>\n",
       "      <td>0</td>\n",
       "      <td>3</td>\n",
       "      <td>0.50</td>\n",
       "      <td>1.00</td>\n",
       "      <td>63.005645</td>\n",
       "    </tr>\n",
       "    <tr>\n",
       "      <th>Puffed Rice</th>\n",
       "      <td>Q</td>\n",
       "      <td>C</td>\n",
       "      <td>50</td>\n",
       "      <td>1</td>\n",
       "      <td>0</td>\n",
       "      <td>0</td>\n",
       "      <td>0.0</td>\n",
       "      <td>13.0</td>\n",
       "      <td>0</td>\n",
       "      <td>15</td>\n",
       "      <td>0</td>\n",
       "      <td>3</td>\n",
       "      <td>0.50</td>\n",
       "      <td>1.00</td>\n",
       "      <td>60.756112</td>\n",
       "    </tr>\n",
       "  </tbody>\n",
       "</table>\n",
       "<p>77 rows × 15 columns</p>\n",
       "</div>"
      ],
      "text/plain": [
       "                                       mfr type  calories  protein  fat  \\\n",
       "name                                                                      \n",
       "Mueslix Crispy Blend                     K    C       160        3    2   \n",
       "Muesli Raisins; Dates; & Almonds         R    C       150        4    3   \n",
       "Muesli Raisins; Peaches; & Pecans        R    C       150        4    3   \n",
       "Total Raisin Bran                        G    C       140        3    1   \n",
       "Just Right Fruit & Nut                   K    C       140        3    1   \n",
       "Nutri-Grain Almond-Raisin                K    C       140        3    2   \n",
       "Oatmeal Raisin Crisp                     G    C       130        3    2   \n",
       "Basic 4                                  G    C       130        3    2   \n",
       "Post Nat. Raisin Bran                    P    C       120        3    1   \n",
       "Honey Graham Ohs                         Q    C       120        1    2   \n",
       "Fruitful Bran                            K    C       120        3    0   \n",
       "Fruit & Fibre Dates; Walnuts; and Oats   P    C       120        3    2   \n",
       "100% Natural Bran                        Q    C       120        3    5   \n",
       "Nut&Honey Crunch                         K    C       120        2    1   \n",
       "Great Grains Pecan                       P    C       120        3    3   \n",
       "Raisin Bran                              K    C       120        3    1   \n",
       "Cinnamon Toast Crunch                    G    C       120        1    3   \n",
       "Cap'n'Crunch                             Q    C       120        1    2   \n",
       "Grape-Nuts                               P    C       110        3    0   \n",
       "Rice Chex                                R    C       110        1    0   \n",
       "Rice Krispies                            K    C       110        2    0   \n",
       "Lucky Charms                             G    C       110        2    1   \n",
       "Kix                                      G    C       110        2    1   \n",
       "Smacks                                   K    C       110        2    1   \n",
       "Special K                                K    C       110        6    0   \n",
       "Honey-comb                               P    C       110        1    0   \n",
       "Honey Nut Cheerios                       G    C       110        3    1   \n",
       "Total Corn Flakes                        G    C       110        2    1   \n",
       "Triples                                  G    C       110        2    1   \n",
       "Trix                                     G    C       110        1    1   \n",
       "...                                     ..  ...       ...      ...  ...   \n",
       "Product 19                               K    C       100        3    0   \n",
       "Raisin Nut Bran                          G    C       100        3    2   \n",
       "Quaker Oatmeal                           Q    H       100        5    2   \n",
       "Quaker Oat Squares                       Q    C       100        4    1   \n",
       "Wheaties                                 G    C       100        3    1   \n",
       "Total Whole Grain                        G    C       100        3    1   \n",
       "Grape Nuts Flakes                        P    C       100        3    1   \n",
       "Wheat Chex                               R    C       100        3    1   \n",
       "Life                                     Q    C       100        4    2   \n",
       "Double Chex                              R    C       100        2    0   \n",
       "Crispy Wheat & Raisins                   G    C       100        2    1   \n",
       "Golden Crisp                             P    C       100        2    0   \n",
       "Frosted Mini-Wheats                      K    C       100        3    0   \n",
       "Maypo                                    A    H       100        4    1   \n",
       "Cream of Wheat (Quick)                   N    H       100        3    0   \n",
       "Multi-Grain Cheerios                     G    C       100        2    1   \n",
       "Corn Flakes                              K    C       100        2    0   \n",
       "Raisin Squares                           K    C        90        2    0   \n",
       "Nutri-grain Wheat                        K    C        90        3    0   \n",
       "Shredded Wheat 'n'Bran                   N    C        90        3    0   \n",
       "Shredded Wheat spoon size                N    C        90        3    0   \n",
       "Bran Chex                                R    C        90        2    1   \n",
       "Strawberry Fruit Wheats                  N    C        90        2    0   \n",
       "Bran Flakes                              P    C        90        3    0   \n",
       "Shredded Wheat                           N    C        80        2    0   \n",
       "All-Bran                                 K    C        70        4    1   \n",
       "100% Bran                                N    C        70        4    1   \n",
       "All-Bran with Extra Fiber                K    C        50        4    0   \n",
       "Puffed Wheat                             Q    C        50        2    0   \n",
       "Puffed Rice                              Q    C        50        1    0   \n",
       "\n",
       "                                        sodium  fiber  carbo  sugars  potass  \\\n",
       "name                                                                           \n",
       "Mueslix Crispy Blend                       150    3.0   17.0      13     160   \n",
       "Muesli Raisins; Dates; & Almonds            95    3.0   16.0      11     170   \n",
       "Muesli Raisins; Peaches; & Pecans          150    3.0   16.0      11     170   \n",
       "Total Raisin Bran                          190    4.0   15.0      14     230   \n",
       "Just Right Fruit & Nut                     170    2.0   20.0       9      95   \n",
       "Nutri-Grain Almond-Raisin                  220    3.0   21.0       7     130   \n",
       "Oatmeal Raisin Crisp                       170    1.5   13.5      10     120   \n",
       "Basic 4                                    210    2.0   18.0       8     100   \n",
       "Post Nat. Raisin Bran                      200    6.0   11.0      14     260   \n",
       "Honey Graham Ohs                           220    1.0   12.0      11      45   \n",
       "Fruitful Bran                              240    5.0   14.0      12     190   \n",
       "Fruit & Fibre Dates; Walnuts; and Oats     160    5.0   12.0      10     200   \n",
       "100% Natural Bran                           15    2.0    8.0       8     135   \n",
       "Nut&Honey Crunch                           190    0.0   15.0       9      40   \n",
       "Great Grains Pecan                          75    3.0   13.0       4     100   \n",
       "Raisin Bran                                210    5.0   14.0      12     240   \n",
       "Cinnamon Toast Crunch                      210    0.0   13.0       9      45   \n",
       "Cap'n'Crunch                               220    0.0   12.0      12      35   \n",
       "Grape-Nuts                                 170    3.0   17.0       3      90   \n",
       "Rice Chex                                  240    0.0   23.0       2      30   \n",
       "Rice Krispies                              290    0.0   22.0       3      35   \n",
       "Lucky Charms                               180    0.0   12.0      12      55   \n",
       "Kix                                        260    0.0   21.0       3      40   \n",
       "Smacks                                      70    1.0    9.0      15      40   \n",
       "Special K                                  230    1.0   16.0       3      55   \n",
       "Honey-comb                                 180    0.0   14.0      11      35   \n",
       "Honey Nut Cheerios                         250    1.5   11.5      10      90   \n",
       "Total Corn Flakes                          200    0.0   21.0       3      35   \n",
       "Triples                                    250    0.0   21.0       3      60   \n",
       "Trix                                       140    0.0   13.0      12      25   \n",
       "...                                        ...    ...    ...     ...     ...   \n",
       "Product 19                                 320    1.0   20.0       3      45   \n",
       "Raisin Nut Bran                            140    2.5   10.5       8     140   \n",
       "Quaker Oatmeal                               0    2.7   -1.0      -1     110   \n",
       "Quaker Oat Squares                         135    2.0   14.0       6     110   \n",
       "Wheaties                                   200    3.0   17.0       3     110   \n",
       "Total Whole Grain                          200    3.0   16.0       3     110   \n",
       "Grape Nuts Flakes                          140    3.0   15.0       5      85   \n",
       "Wheat Chex                                 230    3.0   17.0       3     115   \n",
       "Life                                       150    2.0   12.0       6      95   \n",
       "Double Chex                                190    1.0   18.0       5      80   \n",
       "Crispy Wheat & Raisins                     140    2.0   11.0      10     120   \n",
       "Golden Crisp                                45    0.0   11.0      15      40   \n",
       "Frosted Mini-Wheats                          0    3.0   14.0       7     100   \n",
       "Maypo                                        0    0.0   16.0       3      95   \n",
       "Cream of Wheat (Quick)                      80    1.0   21.0       0      -1   \n",
       "Multi-Grain Cheerios                       220    2.0   15.0       6      90   \n",
       "Corn Flakes                                290    1.0   21.0       2      35   \n",
       "Raisin Squares                               0    2.0   15.0       6     110   \n",
       "Nutri-grain Wheat                          170    3.0   18.0       2      90   \n",
       "Shredded Wheat 'n'Bran                       0    4.0   19.0       0     140   \n",
       "Shredded Wheat spoon size                    0    3.0   20.0       0     120   \n",
       "Bran Chex                                  200    4.0   15.0       6     125   \n",
       "Strawberry Fruit Wheats                     15    3.0   15.0       5      90   \n",
       "Bran Flakes                                210    5.0   13.0       5     190   \n",
       "Shredded Wheat                               0    3.0   16.0       0      95   \n",
       "All-Bran                                   260    9.0    7.0       5     320   \n",
       "100% Bran                                  130   10.0    5.0       6     280   \n",
       "All-Bran with Extra Fiber                  140   14.0    8.0       0     330   \n",
       "Puffed Wheat                                 0    1.0   10.0       0      50   \n",
       "Puffed Rice                                  0    0.0   13.0       0      15   \n",
       "\n",
       "                                        vitamins  shelf  weight  cups  \\\n",
       "name                                                                    \n",
       "Mueslix Crispy Blend                          25      3    1.50  0.67   \n",
       "Muesli Raisins; Dates; & Almonds              25      3    1.00  1.00   \n",
       "Muesli Raisins; Peaches; & Pecans             25      3    1.00  1.00   \n",
       "Total Raisin Bran                            100      3    1.50  1.00   \n",
       "Just Right Fruit & Nut                       100      3    1.30  0.75   \n",
       "Nutri-Grain Almond-Raisin                     25      3    1.33  0.67   \n",
       "Oatmeal Raisin Crisp                          25      3    1.25  0.50   \n",
       "Basic 4                                       25      3    1.33  0.75   \n",
       "Post Nat. Raisin Bran                         25      3    1.33  0.67   \n",
       "Honey Graham Ohs                              25      2    1.00  1.00   \n",
       "Fruitful Bran                                 25      3    1.33  0.67   \n",
       "Fruit & Fibre Dates; Walnuts; and Oats        25      3    1.25  0.67   \n",
       "100% Natural Bran                              0      3    1.00  1.00   \n",
       "Nut&Honey Crunch                              25      2    1.00  0.67   \n",
       "Great Grains Pecan                            25      3    1.00  0.33   \n",
       "Raisin Bran                                   25      2    1.33  0.75   \n",
       "Cinnamon Toast Crunch                         25      2    1.00  0.75   \n",
       "Cap'n'Crunch                                  25      2    1.00  0.75   \n",
       "Grape-Nuts                                    25      3    1.00  0.25   \n",
       "Rice Chex                                     25      1    1.00  1.13   \n",
       "Rice Krispies                                 25      1    1.00  1.00   \n",
       "Lucky Charms                                  25      2    1.00  1.00   \n",
       "Kix                                           25      2    1.00  1.50   \n",
       "Smacks                                        25      2    1.00  0.75   \n",
       "Special K                                     25      1    1.00  1.00   \n",
       "Honey-comb                                    25      1    1.00  1.33   \n",
       "Honey Nut Cheerios                            25      1    1.00  0.75   \n",
       "Total Corn Flakes                            100      3    1.00  1.00   \n",
       "Triples                                       25      3    1.00  0.75   \n",
       "Trix                                          25      2    1.00  1.00   \n",
       "...                                          ...    ...     ...   ...   \n",
       "Product 19                                   100      3    1.00  1.00   \n",
       "Raisin Nut Bran                               25      3    1.00  0.50   \n",
       "Quaker Oatmeal                                 0      1    1.00  0.67   \n",
       "Quaker Oat Squares                            25      3    1.00  0.50   \n",
       "Wheaties                                      25      1    1.00  1.00   \n",
       "Total Whole Grain                            100      3    1.00  1.00   \n",
       "Grape Nuts Flakes                             25      3    1.00  0.88   \n",
       "Wheat Chex                                    25      1    1.00  0.67   \n",
       "Life                                          25      2    1.00  0.67   \n",
       "Double Chex                                   25      3    1.00  0.75   \n",
       "Crispy Wheat & Raisins                        25      3    1.00  0.75   \n",
       "Golden Crisp                                  25      1    1.00  0.88   \n",
       "Frosted Mini-Wheats                           25      2    1.00  0.80   \n",
       "Maypo                                         25      2    1.00  1.00   \n",
       "Cream of Wheat (Quick)                         0      2    1.00  1.00   \n",
       "Multi-Grain Cheerios                          25      1    1.00  1.00   \n",
       "Corn Flakes                                   25      1    1.00  1.00   \n",
       "Raisin Squares                                25      3    1.00  0.50   \n",
       "Nutri-grain Wheat                             25      3    1.00  1.00   \n",
       "Shredded Wheat 'n'Bran                         0      1    1.00  0.67   \n",
       "Shredded Wheat spoon size                      0      1    1.00  0.67   \n",
       "Bran Chex                                     25      1    1.00  0.67   \n",
       "Strawberry Fruit Wheats                       25      2    1.00  1.00   \n",
       "Bran Flakes                                   25      3    1.00  0.67   \n",
       "Shredded Wheat                                 0      1    0.83  1.00   \n",
       "All-Bran                                      25      3    1.00  0.33   \n",
       "100% Bran                                     25      3    1.00  0.33   \n",
       "All-Bran with Extra Fiber                     25      3    1.00  0.50   \n",
       "Puffed Wheat                                   0      3    0.50  1.00   \n",
       "Puffed Rice                                    0      3    0.50  1.00   \n",
       "\n",
       "                                           rating  \n",
       "name                                               \n",
       "Mueslix Crispy Blend                    30.313351  \n",
       "Muesli Raisins; Dates; & Almonds        37.136863  \n",
       "Muesli Raisins; Peaches; & Pecans       34.139765  \n",
       "Total Raisin Bran                       28.592785  \n",
       "Just Right Fruit & Nut                  36.471512  \n",
       "Nutri-Grain Almond-Raisin               40.692320  \n",
       "Oatmeal Raisin Crisp                    30.450843  \n",
       "Basic 4                                 37.038562  \n",
       "Post Nat. Raisin Bran                   37.840594  \n",
       "Honey Graham Ohs                        21.871292  \n",
       "Fruitful Bran                           41.015492  \n",
       "Fruit & Fibre Dates; Walnuts; and Oats  40.917047  \n",
       "100% Natural Bran                       33.983679  \n",
       "Nut&Honey Crunch                        29.924285  \n",
       "Great Grains Pecan                      45.811716  \n",
       "Raisin Bran                             39.259197  \n",
       "Cinnamon Toast Crunch                   19.823573  \n",
       "Cap'n'Crunch                            18.042851  \n",
       "Grape-Nuts                              53.371007  \n",
       "Rice Chex                               41.998933  \n",
       "Rice Krispies                           40.560159  \n",
       "Lucky Charms                            26.734515  \n",
       "Kix                                     39.241114  \n",
       "Smacks                                  31.230054  \n",
       "Special K                               53.131324  \n",
       "Honey-comb                              28.742414  \n",
       "Honey Nut Cheerios                      31.072217  \n",
       "Total Corn Flakes                       38.839746  \n",
       "Triples                                 39.106174  \n",
       "Trix                                    27.753301  \n",
       "...                                           ...  \n",
       "Product 19                              41.503540  \n",
       "Raisin Nut Bran                         39.703400  \n",
       "Quaker Oatmeal                          50.828392  \n",
       "Quaker Oat Squares                      49.511874  \n",
       "Wheaties                                51.592193  \n",
       "Total Whole Grain                       46.658844  \n",
       "Grape Nuts Flakes                       52.076897  \n",
       "Wheat Chex                              49.787445  \n",
       "Life                                    45.328074  \n",
       "Double Chex                             44.330856  \n",
       "Crispy Wheat & Raisins                  36.176196  \n",
       "Golden Crisp                            35.252444  \n",
       "Frosted Mini-Wheats                     58.345141  \n",
       "Maypo                                   54.850917  \n",
       "Cream of Wheat (Quick)                  64.533816  \n",
       "Multi-Grain Cheerios                    40.105965  \n",
       "Corn Flakes                             45.863324  \n",
       "Raisin Squares                          55.333142  \n",
       "Nutri-grain Wheat                       59.642837  \n",
       "Shredded Wheat 'n'Bran                  74.472949  \n",
       "Shredded Wheat spoon size               72.801787  \n",
       "Bran Chex                               49.120253  \n",
       "Strawberry Fruit Wheats                 59.363993  \n",
       "Bran Flakes                             53.313813  \n",
       "Shredded Wheat                          68.235885  \n",
       "All-Bran                                59.425505  \n",
       "100% Bran                               68.402973  \n",
       "All-Bran with Extra Fiber               93.704912  \n",
       "Puffed Wheat                            63.005645  \n",
       "Puffed Rice                             60.756112  \n",
       "\n",
       "[77 rows x 15 columns]"
      ]
     },
     "execution_count": 13,
     "metadata": {},
     "output_type": "execute_result"
    }
   ],
   "source": [
    "cereal = cereal.sort_values(\"calories\", ascending=False)\n",
    "cereal"
   ]
  },
  {
   "cell_type": "code",
   "execution_count": 14,
   "metadata": {
    "slideshow": {
     "slide_type": "subslide"
    }
   },
   "outputs": [],
   "source": [
    "y = cereal['calories']"
   ]
  },
  {
   "cell_type": "code",
   "execution_count": 15,
   "metadata": {},
   "outputs": [
    {
     "data": {
      "text/plain": [
       "[<matplotlib.lines.Line2D at 0x7f774827fa90>]"
      ]
     },
     "execution_count": 15,
     "metadata": {},
     "output_type": "execute_result"
    },
    {
     "data": {
      "image/png": "[encoded data removed]",
      "text/plain": [
       "<Figure size 432x288 with 1 Axes>"
      ]
     },
     "metadata": {
      "needs_background": "light"
     },
     "output_type": "display_data"
    }
   ],
   "source": [
    "plt.plot(cereal['calories'],cereal['rating'])"
   ]
  },
  {
   "cell_type": "code",
   "execution_count": 16,
   "metadata": {},
   "outputs": [
    {
     "data": {
      "text/plain": [
       "[<matplotlib.lines.Line2D at 0x7f77410c1080>]"
      ]
     },
     "execution_count": 16,
     "metadata": {},
     "output_type": "execute_result"
    },
    {
     "data": {
      "image/png": "[encoded data removed]",
      "text/plain": [
       "<Figure size 432x288 with 1 Axes>"
      ]
     },
     "metadata": {
      "needs_background": "light"
     },
     "output_type": "display_data"
    }
   ],
   "source": [
    "plt.plot(cereal['calories'],cereal['sugars'])"
   ]
  },
  {
   "cell_type": "code",
   "execution_count": 17,
   "metadata": {
    "slideshow": {
     "slide_type": "subslide"
    }
   },
   "outputs": [
    {
     "data": {
      "image/png": "[encoded data removed]",
      "text/plain": [
       "<Figure size 1440x576 with 1 Axes>"
      ]
     },
     "metadata": {
      "needs_background": "light"
     },
     "output_type": "display_data"
    }
   ],
   "source": [
    "plt.figure(figsize=(20,8))\n",
    "sns.barplot(cereal.index, y)\n",
    "plt.xticks(rotation=\"vertical\");"
   ]
  },
  {
   "cell_type": "code",
   "execution_count": 18,
   "metadata": {
    "slideshow": {
     "slide_type": "subslide"
    }
   },
   "outputs": [
    {
     "data": {
      "image/png": "[encoded data removed]",
      "text/plain": [
       "<Figure size 720x72 with 1 Axes>"
      ]
     },
     "metadata": {
      "needs_background": "light"
     },
     "output_type": "display_data"
    }
   ],
   "source": [
    "plot_distribution(y,set_lims=False)"
   ]
  },
  {
   "cell_type": "code",
   "execution_count": 19,
   "metadata": {
    "slideshow": {
     "slide_type": "fragment"
    }
   },
   "outputs": [
    {
     "data": {
      "image/png": "[encoded data removed]",
      "text/plain": [
       "<Figure size 720x576 with 1 Axes>"
      ]
     },
     "metadata": {
      "needs_background": "light"
     },
     "output_type": "display_data"
    }
   ],
   "source": [
    "plt.figure(figsize = (10,8))\n",
    "sns.distplot(y, bins=20)\n",
    "plt.title(\"Distribution of Cereal Ratings\");"
   ]
  },
  {
   "cell_type": "markdown",
   "metadata": {
    "slideshow": {
     "slide_type": "slide"
    }
   },
   "source": [
    "## Loss with Cereal Dataset\n",
    "\n",
    "What are the minimums?\n",
    "\n",
    "Can we compare loss values between loss functions? What about within loss funtions?"
   ]
  },
  {
   "cell_type": "code",
   "execution_count": 20,
   "metadata": {
    "slideshow": {
     "slide_type": "skip"
    }
   },
   "outputs": [],
   "source": [
    "def plot_guess(loss, h, y):\n",
    "    plt.figure(figsize=(10,1))\n",
    "    ax = sns.stripplot(y)\n",
    "    ax.add_line(Axes.axvline(ax, x=h, c=\"red\"))\n",
    "    plt.show()\n",
    "    print(\"Loss: {}\".format(loss(y, h)))"
   ]
  },
  {
   "cell_type": "code",
   "execution_count": 21,
   "metadata": {
    "slideshow": {
     "slide_type": "fragment"
    }
   },
   "outputs": [
    {
     "data": {
      "application/vnd.jupyter.widget-view+json": {
       "model_id": "1bcf4601f8514c7f9e4cc78760c4279b",
       "version_major": 2,
       "version_minor": 0
      },
      "text/plain": [
       "interactive(children=(Dropdown(description='loss', options={'number incorrect': <function incorrect_loss at 0x…"
      ]
     },
     "metadata": {},
     "output_type": "display_data"
    }
   ],
   "source": [
    "interact(plot_guess, loss = loss_functions, h=(0,200,1), y=fixed(y));"
   ]
  },
  {
   "cell_type": "markdown",
   "metadata": {
    "slideshow": {
     "slide_type": "notes"
    }
   },
   "source": [
    "high values of loss are not \"bad\". cant compare loss values between loss functions"
   ]
  },
  {
   "cell_type": "markdown",
   "metadata": {
    "slideshow": {
     "slide_type": "slide"
    }
   },
   "source": [
    "# Plotting Loss Functions"
   ]
  },
  {
   "cell_type": "code",
   "execution_count": 22,
   "metadata": {
    "slideshow": {
     "slide_type": "skip"
    }
   },
   "outputs": [],
   "source": [
    "def plot_loss(alpha, loss, y):\n",
    "    x = np.arange(0,200,alpha)\n",
    "    losses = [loss(y, x_i) for x_i in x]\n",
    "    min_x = 0\n",
    "    max_loss = 10000000\n",
    "    for x_i in x:\n",
    "        if(loss(y,x_i)<max_loss):\n",
    "            max_loss=loss(y,x_i)\n",
    "            min_x=x_i\n",
    "    plt.scatter(x, losses)\n",
    "    plt.title(\"{} for Dataset\".format(loss.__name__))\n",
    "    plt.xlabel('h')\n",
    "    plt.ylabel('loss');\n",
    "    print(\"Minimum Loss is\",min(losses),\" and occurs at \",min_x)"
   ]
  },
  {
   "cell_type": "markdown",
   "metadata": {
    "slideshow": {
     "slide_type": "subslide"
    }
   },
   "source": [
    "## Plotting Loss for Cereal Dataset\n",
    "\n",
    "What are the minimums?\n",
    "\n",
    "Can we compare loss values between loss functions? What about within loss funtions?"
   ]
  },
  {
   "cell_type": "code",
   "execution_count": 23,
   "metadata": {
    "slideshow": {
     "slide_type": "fragment"
    }
   },
   "outputs": [
    {
     "data": {
      "application/vnd.jupyter.widget-view+json": {
       "model_id": "f698aae4a18d4255bd11aee6a76a8a35",
       "version_major": 2,
       "version_minor": 0
      },
      "text/plain": [
       "interactive(children=(FloatSlider(value=5.0, description='alpha', max=10.0, min=0.5, step=0.5), Dropdown(descr…"
      ]
     },
     "metadata": {},
     "output_type": "display_data"
    }
   ],
   "source": [
    "interact(plot_loss, loss=loss_functions, alpha=(.5,10,.5), y=fixed(y));"
   ]
  },
  {
   "cell_type": "markdown",
   "metadata": {
    "slideshow": {
     "slide_type": "slide"
    }
   },
   "source": [
    "# Minimizing Loss"
   ]
  },
  {
   "cell_type": "markdown",
   "metadata": {
    "slideshow": {
     "slide_type": "subslide"
    }
   },
   "source": [
    "Minimized Number Incorrect Loss:"
   ]
  },
  {
   "cell_type": "code",
   "execution_count": 24,
   "metadata": {
    "slideshow": {
     "slide_type": "fragment"
    }
   },
   "outputs": [
    {
     "data": {
      "text/plain": [
       "110"
      ]
     },
     "execution_count": 24,
     "metadata": {},
     "output_type": "execute_result"
    }
   ],
   "source": [
    "# statistics.mode(y) fails because there are multiple modes\n",
    "def mode(y):\n",
    "    counts = [(y_i, list(y).count(y_i)) for y_i in y]\n",
    "    counts.sort(key = lambda x: x[1], reverse=True)\n",
    "    return counts[0][0]\n",
    "\n",
    "mode(y)"
   ]
  },
  {
   "cell_type": "markdown",
   "metadata": {
    "slideshow": {
     "slide_type": "fragment"
    }
   },
   "source": [
    "Minimized Furthest Distance Loss:"
   ]
  },
  {
   "cell_type": "code",
   "execution_count": 25,
   "metadata": {
    "slideshow": {
     "slide_type": "fragment"
    }
   },
   "outputs": [
    {
     "data": {
      "text/plain": [
       "105.0"
      ]
     },
     "execution_count": 25,
     "metadata": {},
     "output_type": "execute_result"
    }
   ],
   "source": [
    "def midrange(y):\n",
    "    return (max(y) + min(y)) / 2\n",
    "\n",
    "midrange(y)"
   ]
  },
  {
   "cell_type": "markdown",
   "metadata": {
    "slideshow": {
     "slide_type": "subslide"
    }
   },
   "source": [
    "Minimized Total Absolute Distance:"
   ]
  },
  {
   "cell_type": "code",
   "execution_count": 26,
   "metadata": {
    "slideshow": {
     "slide_type": "fragment"
    }
   },
   "outputs": [
    {
     "data": {
      "text/plain": [
       "110"
      ]
     },
     "execution_count": 26,
     "metadata": {},
     "output_type": "execute_result"
    }
   ],
   "source": [
    "def median(y):\n",
    "    if len(y) % 2 == 0:\n",
    "        return (y[int(len(y)/2) - 1] + y[int(len(y)/2)]) / 2\n",
    "    return y[int((len(y) - 1)/2)]\n",
    "\n",
    "median(y)"
   ]
  },
  {
   "cell_type": "markdown",
   "metadata": {
    "slideshow": {
     "slide_type": "fragment"
    }
   },
   "source": [
    "Minimized Total Squared Distance:"
   ]
  },
  {
   "cell_type": "code",
   "execution_count": 27,
   "metadata": {
    "slideshow": {
     "slide_type": "fragment"
    }
   },
   "outputs": [
    {
     "data": {
      "text/plain": [
       "106.88311688311688"
      ]
     },
     "execution_count": 27,
     "metadata": {},
     "output_type": "execute_result"
    }
   ],
   "source": [
    "def mean(y):\n",
    "    return sum(y) / len(y)\n",
    "\n",
    "mean(y)"
   ]
  },
  {
   "cell_type": "markdown",
   "metadata": {
    "slideshow": {
     "slide_type": "subslide"
    }
   },
   "source": [
    "## Which of the minimized loss functions produces the best h?"
   ]
  },
  {
   "cell_type": "code",
   "execution_count": 28,
   "metadata": {
    "slideshow": {
     "slide_type": "fragment"
    }
   },
   "outputs": [
    {
     "data": {
      "image/png": "[encoded data removed]",
      "text/plain": [
       "<Figure size 720x72 with 1 Axes>"
      ]
     },
     "metadata": {
      "needs_background": "light"
     },
     "output_type": "display_data"
    }
   ],
   "source": [
    "plot_distribution(y, extra_points = [(mode(y), \"red\"), (midrange(y), \"green\"), (median(y), \"purple\"), (mean(y), \"yellow\")],set_lims=False)"
   ]
  },
  {
   "cell_type": "code",
   "execution_count": 29,
   "metadata": {
    "slideshow": {
     "slide_type": "fragment"
    }
   },
   "outputs": [
    {
     "data": {
      "image/png": "[encoded data removed]",
      "text/plain": [
       "<Figure size 720x288 with 1 Axes>"
      ]
     },
     "metadata": {
      "needs_background": "light"
     },
     "output_type": "display_data"
    }
   ],
   "source": [
    "plot_distribution(y, extra_points = [(mode(y), \"red\"), (midrange(y), \"green\"), (mean(y), \"yellow\"), (median(y), \"purple\")], \n",
    "                  plot = sns.distplot, size = (10,4),set_lims=False)"
   ]
  },
  {
   "cell_type": "code",
   "execution_count": 30,
   "metadata": {},
   "outputs": [
    {
     "data": {
      "image/png": "[encoded data removed]",
      "text/plain": [
       "<Figure size 720x288 with 1 Axes>"
      ]
     },
     "metadata": {
      "needs_background": "light"
     },
     "output_type": "display_data"
    }
   ],
   "source": [
    "plot_distribution(y, extra_points = [(mode(y), \"red\"), (midrange(y), \"green\"), (mean(y), \"yellow\"), (median(y), \"purple\")],\n",
    "                 set_lims=False, plot=sns.violinplot, size=(10,4))"
   ]
  },
  {
   "cell_type": "markdown",
   "metadata": {
    "slideshow": {
     "slide_type": "slide"
    }
   },
   "source": [
    "# Other Datasets"
   ]
  },
  {
   "cell_type": "code",
   "execution_count": 31,
   "metadata": {
    "slideshow": {
     "slide_type": "skip"
    }
   },
   "outputs": [],
   "source": [
    "y = list(np.random.normal(10,1,30)) + list(np.random.normal(20,1,10))"
   ]
  },
  {
   "cell_type": "markdown",
   "metadata": {
    "slideshow": {
     "slide_type": "subslide"
    }
   },
   "source": [
    "### 1) Which of the minimized loss functions produces the best h?"
   ]
  },
  {
   "cell_type": "code",
   "execution_count": 32,
   "metadata": {
    "slideshow": {
     "slide_type": "fragment"
    }
   },
   "outputs": [
    {
     "data": {
      "image/png": "[encoded data removed]",
      "text/plain": [
       "<Figure size 720x72 with 1 Axes>"
      ]
     },
     "metadata": {
      "needs_background": "light"
     },
     "output_type": "display_data"
    }
   ],
   "source": [
    "plot_distribution(y, set_lims=False)"
   ]
  },
  {
   "cell_type": "code",
   "execution_count": 33,
   "metadata": {
    "slideshow": {
     "slide_type": "fragment"
    }
   },
   "outputs": [
    {
     "data": {
      "image/png": "[encoded data removed]",
      "text/plain": [
       "<Figure size 720x288 with 1 Axes>"
      ]
     },
     "metadata": {
      "needs_background": "light"
     },
     "output_type": "display_data"
    }
   ],
   "source": [
    "plot_distribution(y, set_lims=False, plot=sns.distplot, size=(10,4))"
   ]
  },
  {
   "cell_type": "code",
   "execution_count": 34,
   "metadata": {
    "slideshow": {
     "slide_type": "fragment"
    }
   },
   "outputs": [
    {
     "data": {
      "text/plain": [
       "array([  9.53514229,  10.35792901,  10.68578215,  10.87454593,\n",
       "        11.36992938,  10.28667708,   7.88404769,   9.79516559,\n",
       "        10.85084725,  10.44833985,  11.01695795,  10.73356793,\n",
       "         8.60114291,   9.91956754,   9.63152911,  10.26314393,\n",
       "        11.01857051,  10.66303068,   9.81750381,  12.39369133,\n",
       "         9.64722682,  10.58950114,  10.79803665,  10.52789094,\n",
       "        11.14118682,   9.57653546,   9.61087825,  10.2664958 ,\n",
       "         8.36250383,   8.79298966,  18.85370899,  19.85665817,\n",
       "        19.15117578,  19.61191549,  18.29886138,  18.95763582,\n",
       "        21.16856054,  21.25093716,  20.68106743,  20.43568795])"
      ]
     },
     "execution_count": 34,
     "metadata": {},
     "output_type": "execute_result"
    }
   ],
   "source": [
    "np.array(y)"
   ]
  },
  {
   "cell_type": "code",
   "execution_count": 35,
   "metadata": {
    "slideshow": {
     "slide_type": "subslide"
    }
   },
   "outputs": [
    {
     "data": {
      "image/png": "[encoded data removed]",
      "text/plain": [
       "<Figure size 720x72 with 1 Axes>"
      ]
     },
     "metadata": {
      "needs_background": "light"
     },
     "output_type": "display_data"
    }
   ],
   "source": [
    "plot_distribution(y, extra_points = [(mode(y), \"red\"), (midrange(y), \"green\"), (mean(y), \"yellow\"), (median(y), \"purple\")],\n",
    "                 set_lims=False)"
   ]
  },
  {
   "cell_type": "code",
   "execution_count": 36,
   "metadata": {
    "scrolled": true,
    "slideshow": {
     "slide_type": "fragment"
    }
   },
   "outputs": [
    {
     "data": {
      "image/png": "[encoded data removed]",
      "text/plain": [
       "<Figure size 720x288 with 1 Axes>"
      ]
     },
     "metadata": {
      "needs_background": "light"
     },
     "output_type": "display_data"
    }
   ],
   "source": [
    "plot_distribution(y, extra_points = [(mode(y), \"red\"), (midrange(y), \"green\"), (mean(y), \"yellow\"), (median(y), \"purple\")],\n",
    "                 set_lims=False, plot=sns.violinplot, size=(10,4))"
   ]
  },
  {
   "cell_type": "markdown",
   "metadata": {
    "slideshow": {
     "slide_type": "subslide"
    }
   },
   "source": [
    "### 2) Which of the minimized loss functions produces the best h?"
   ]
  },
  {
   "cell_type": "code",
   "execution_count": 37,
   "metadata": {
    "slideshow": {
     "slide_type": "skip"
    }
   },
   "outputs": [],
   "source": [
    "y = list(np.random.normal(0,1,10)) + [100]"
   ]
  },
  {
   "cell_type": "code",
   "execution_count": 38,
   "metadata": {
    "slideshow": {
     "slide_type": "fragment"
    }
   },
   "outputs": [
    {
     "data": {
      "image/png": "[encoded data removed]",
      "text/plain": [
       "<Figure size 720x72 with 1 Axes>"
      ]
     },
     "metadata": {
      "needs_background": "light"
     },
     "output_type": "display_data"
    }
   ],
   "source": [
    "plot_distribution(y, set_lims=False)"
   ]
  },
  {
   "cell_type": "code",
   "execution_count": 39,
   "metadata": {
    "slideshow": {
     "slide_type": "fragment"
    }
   },
   "outputs": [
    {
     "data": {
      "image/png": "[encoded data removed]",
      "text/plain": [
       "<Figure size 720x288 with 1 Axes>"
      ]
     },
     "metadata": {
      "needs_background": "light"
     },
     "output_type": "display_data"
    }
   ],
   "source": [
    "plot_distribution(y, set_lims=False, plot=sns.violinplot, size=(10,4))"
   ]
  },
  {
   "cell_type": "code",
   "execution_count": 40,
   "metadata": {
    "scrolled": true,
    "slideshow": {
     "slide_type": "fragment"
    }
   },
   "outputs": [
    {
     "data": {
      "text/plain": [
       "array([  1.34513671e+00,   9.44157901e-01,   1.54039127e-01,\n",
       "         1.35654138e-02,   2.58185584e+00,  -5.11643232e-01,\n",
       "        -3.07202696e-02,   6.79871741e-01,   1.78129593e-01,\n",
       "         4.67328592e-01,   1.00000000e+02])"
      ]
     },
     "execution_count": 40,
     "metadata": {},
     "output_type": "execute_result"
    }
   ],
   "source": [
    "np.array(y)"
   ]
  },
  {
   "cell_type": "code",
   "execution_count": 41,
   "metadata": {
    "slideshow": {
     "slide_type": "subslide"
    }
   },
   "outputs": [
    {
     "data": {
      "image/png": "[encoded data removed]",
      "text/plain": [
       "<Figure size 720x72 with 1 Axes>"
      ]
     },
     "metadata": {
      "needs_background": "light"
     },
     "output_type": "display_data"
    }
   ],
   "source": [
    "plot_distribution(y, extra_points = [(mode(y), \"red\"), (midrange(y), \"green\"), (mean(y), \"yellow\"), (median(y), \"purple\")],\n",
    "                 set_lims=False)"
   ]
  },
  {
   "cell_type": "code",
   "execution_count": 42,
   "metadata": {
    "scrolled": false,
    "slideshow": {
     "slide_type": "fragment"
    }
   },
   "outputs": [
    {
     "data": {
      "image/png": "[encoded data removed]",
      "text/plain": [
       "<Figure size 720x288 with 1 Axes>"
      ]
     },
     "metadata": {
      "needs_background": "light"
     },
     "output_type": "display_data"
    }
   ],
   "source": [
    "plot_distribution(y, extra_points = [(mode(y), \"red\"), (midrange(y), \"green\"), (mean(y), \"yellow\"), (median(y), \"purple\")],\n",
    "                 set_lims=False, plot=sns.violinplot, size=(10,4))"
   ]
  },
  {
   "cell_type": "markdown",
   "metadata": {
    "slideshow": {
     "slide_type": "subslide"
    }
   },
   "source": [
    "### 3) Which of the minimized loss functions produces the best h?"
   ]
  },
  {
   "cell_type": "code",
   "execution_count": 43,
   "metadata": {
    "slideshow": {
     "slide_type": "skip"
    }
   },
   "outputs": [],
   "source": [
    "y = random.choices([1,1,1,1,1,1,20,6,10,15,13],k=30)"
   ]
  },
  {
   "cell_type": "code",
   "execution_count": 44,
   "metadata": {
    "slideshow": {
     "slide_type": "fragment"
    }
   },
   "outputs": [
    {
     "data": {
      "image/png": "[encoded data removed]",
      "text/plain": [
       "<Figure size 720x72 with 1 Axes>"
      ]
     },
     "metadata": {
      "needs_background": "light"
     },
     "output_type": "display_data"
    }
   ],
   "source": [
    "plot_distribution(y, set_lims=False)"
   ]
  },
  {
   "cell_type": "code",
   "execution_count": 45,
   "metadata": {
    "slideshow": {
     "slide_type": "fragment"
    }
   },
   "outputs": [
    {
     "data": {
      "image/png": "[encoded data removed]",
      "text/plain": [
       "<Figure size 720x288 with 1 Axes>"
      ]
     },
     "metadata": {
      "needs_background": "light"
     },
     "output_type": "display_data"
    }
   ],
   "source": [
    "plot_distribution(y, set_lims=False, plot=sns.distplot, size=(10,4))"
   ]
  },
  {
   "cell_type": "code",
   "execution_count": 46,
   "metadata": {
    "slideshow": {
     "slide_type": "subslide"
    }
   },
   "outputs": [
    {
     "data": {
      "image/png": "[encoded data removed]",
      "text/plain": [
       "<Figure size 720x72 with 1 Axes>"
      ]
     },
     "metadata": {
      "needs_background": "light"
     },
     "output_type": "display_data"
    }
   ],
   "source": [
    "plot_distribution(y, extra_points = [(mode(y), \"red\"), (midrange(y), \"green\"), (mean(y), \"yellow\"), (median(y), \"purple\")],\n",
    "                 set_lims=False)"
   ]
  },
  {
   "cell_type": "code",
   "execution_count": 47,
   "metadata": {
    "scrolled": false,
    "slideshow": {
     "slide_type": "fragment"
    }
   },
   "outputs": [
    {
     "data": {
      "image/png": "[encoded data removed]",
      "text/plain": [
       "<Figure size 720x288 with 1 Axes>"
      ]
     },
     "metadata": {
      "needs_background": "light"
     },
     "output_type": "display_data"
    }
   ],
   "source": [
    "plot_distribution(y, extra_points = [(mode(y), \"red\"), (midrange(y), \"green\"), (mean(y), \"yellow\"), (median(y), \"purple\")],\n",
    "                 set_lims=False, plot=sns.violinplot, size=(10,4))"
   ]
  },
  {
   "cell_type": "markdown",
   "metadata": {
    "slideshow": {
     "slide_type": "slide"
    }
   },
   "source": [
    "# New Loss Function: Huber"
   ]
  },
  {
   "cell_type": "markdown",
   "metadata": {
    "slideshow": {
     "slide_type": "subslide"
    }
   },
   "source": [
    "## Huber Loss\n",
    "\n",
    "* Combines total squared distance and total absolute distance\n",
    "* Somewhat of a best of both worlds situation\n",
    "\n",
    "Huber Loss uses the total squared distance for values close to h and total absolute distance for values further away."
   ]
  },
  {
   "cell_type": "markdown",
   "metadata": {
    "slideshow": {
     "slide_type": "subslide"
    }
   },
   "source": [
    "### Why?\n",
    "* Absolute distance is resistant to outliers\n",
    "    * Outliers are typically far away from minimized loss values\n",
    "* Squared distance is sensitive close to right prediction\n",
    "    * The \"u\" shape is less harsh than the \"v\" once it gets close"
   ]
  },
  {
   "cell_type": "markdown",
   "metadata": {
    "slideshow": {
     "slide_type": "subslide"
    }
   },
   "source": [
    "### How?\n",
    "We assign some delta value that determines how far away from h we switch from using total squared distance to total absolute distance"
   ]
  },
  {
   "cell_type": "markdown",
   "metadata": {
    "slideshow": {
     "slide_type": "subslide"
    }
   },
   "source": [
    "### Formula:\n",
    "<img src=\"https://wikimedia.org/api/rest_v1/media/math/render/svg/21983befe82b2509d1bb8dfa1064a35b6031d508\" height=800 width=1500>"
   ]
  },
  {
   "cell_type": "code",
   "execution_count": 48,
   "metadata": {
    "slideshow": {
     "slide_type": "subslide"
    }
   },
   "outputs": [],
   "source": [
    "def huber_loss(y, h, delta):\n",
    "    loss = 0\n",
    "    for y_i in y:\n",
    "        resid = abs(y_i-h)\n",
    "        \n",
    "        if resid <= delta:\n",
    "            loss += (.5 * (resid ** 2))\n",
    "        else:\n",
    "            loss += (delta * resid) - (.5 * delta ** 2)\n",
    "            \n",
    "    loss /= len(y)\n",
    "    \n",
    "    return loss"
   ]
  },
  {
   "cell_type": "code",
   "execution_count": 49,
   "metadata": {
    "slideshow": {
     "slide_type": "skip"
    }
   },
   "outputs": [],
   "source": [
    "def plot_huber_loss(delta, y, xlim):\n",
    "    x = np.arange(xlim[0],xlim[1],(xlim[1] - xlim[0]) / 1000)\n",
    "    losses = [huber_loss(y, x_i, delta) for x_i in x]\n",
    "    \n",
    "    plt.plot(x, losses)\n",
    "    plt.title(\"Huber Loss for Cereal Dataset\")\n",
    "    plt.xlabel('h')\n",
    "    plt.ylabel('loss');"
   ]
  },
  {
   "cell_type": "code",
   "execution_count": 50,
   "metadata": {
    "slideshow": {
     "slide_type": "subslide"
    }
   },
   "outputs": [],
   "source": [
    "y = [5]"
   ]
  },
  {
   "cell_type": "code",
   "execution_count": 51,
   "metadata": {
    "slideshow": {
     "slide_type": "fragment"
    }
   },
   "outputs": [
    {
     "data": {
      "application/vnd.jupyter.widget-view+json": {
       "model_id": "cc0b5b1a0a6a4e1f81a64cbb112c69fe",
       "version_major": 2,
       "version_minor": 0
      },
      "text/plain": [
       "interactive(children=(FloatSlider(value=9.5, description='delta', max=20.0, min=0.5, step=1.0), Output()), _do…"
      ]
     },
     "metadata": {},
     "output_type": "display_data"
    }
   ],
   "source": [
    "interact(plot_huber_loss, delta=(.5,20,1), y=fixed(y), xlim=fixed((0,10)));"
   ]
  },
  {
   "cell_type": "code",
   "execution_count": 52,
   "metadata": {
    "slideshow": {
     "slide_type": "subslide"
    }
   },
   "outputs": [
    {
     "data": {
      "text/plain": [
       "      fun: 0.0\n",
       " hess_inv: array([[1]])\n",
       "      jac: array([  7.45058060e-09])\n",
       "  message: 'Optimization terminated successfully.'\n",
       "     nfev: 9\n",
       "      nit: 1\n",
       "     njev: 3\n",
       "   status: 0\n",
       "  success: True\n",
       "        x: array([ 5.])"
      ]
     },
     "execution_count": 52,
     "metadata": {},
     "output_type": "execute_result"
    }
   ],
   "source": [
    "scipy.optimize.minimize(lambda h: huber_loss(y, h, 1), x0=0)"
   ]
  },
  {
   "cell_type": "code",
   "execution_count": 53,
   "metadata": {
    "slideshow": {
     "slide_type": "fragment"
    }
   },
   "outputs": [
    {
     "data": {
      "application/vnd.jupyter.widget-view+json": {
       "model_id": "34adeae434624bd3b0aae7648be7047d",
       "version_major": 2,
       "version_minor": 0
      },
      "text/plain": [
       "interactive(children=(FloatSlider(value=10.0, description='delta', max=20.0, min=0.5, step=0.5), Output()), _d…"
      ]
     },
     "metadata": {},
     "output_type": "display_data"
    }
   ],
   "source": [
    "interact(lambda delta: scipy.optimize.minimize(lambda h: huber_loss(y, h, delta), x0 = 0).x, delta = (.5,20,.5));"
   ]
  },
  {
   "cell_type": "markdown",
   "metadata": {
    "slideshow": {
     "slide_type": "subslide"
    }
   },
   "source": [
    "## Huber Loss: Cereal Dataset"
   ]
  },
  {
   "cell_type": "code",
   "execution_count": 54,
   "metadata": {
    "slideshow": {
     "slide_type": "skip"
    }
   },
   "outputs": [],
   "source": [
    "y = pd.read_csv(\"data/cereal.csv\").set_index('name')['calories']"
   ]
  },
  {
   "cell_type": "code",
   "execution_count": 55,
   "metadata": {
    "slideshow": {
     "slide_type": "subslide"
    }
   },
   "outputs": [
    {
     "data": {
      "application/vnd.jupyter.widget-view+json": {
       "model_id": "d4e3f2494da64a2fa3313ac0ef122fe1",
       "version_major": 2,
       "version_minor": 0
      },
      "text/plain": [
       "interactive(children=(FloatSlider(value=9.5, description='delta', max=20.0, min=0.5, step=1.0), Output()), _do…"
      ]
     },
     "metadata": {},
     "output_type": "display_data"
    }
   ],
   "source": [
    "interact(plot_huber_loss, delta=(.5,20,1), y=fixed(y), xlim=fixed((0,200)));"
   ]
  },
  {
   "cell_type": "code",
   "execution_count": 56,
   "metadata": {
    "slideshow": {
     "slide_type": "fragment"
    }
   },
   "outputs": [
    {
     "data": {
      "application/vnd.jupyter.widget-view+json": {
       "model_id": "5b447df77281413f9a884de335070175",
       "version_major": 2,
       "version_minor": 0
      },
      "text/plain": [
       "interactive(children=(FloatSlider(value=25.0, description='delta', max=50.0, min=0.5, step=0.5), Output()), _d…"
      ]
     },
     "metadata": {},
     "output_type": "display_data"
    }
   ],
   "source": [
    "interact(lambda delta: scipy.optimize.minimize(lambda h: huber_loss(y, h, delta), x0 = 0).x, delta = (.5,50,.5));"
   ]
  },
  {
   "cell_type": "code",
   "execution_count": 62,
   "metadata": {
    "slideshow": {
     "slide_type": "slide"
    }
   },
   "outputs": [],
   "source": [
    "# Not covered today"
   ]
  },
  {
   "cell_type": "code",
   "execution_count": 76,
   "metadata": {
    "slideshow": {
     "slide_type": "skip"
    }
   },
   "outputs": [],
   "source": [
    "# imports\n",
    "import matplotlib.pyplot as plt\n",
    "from matplotlib.axes import Axes\n",
    "import seaborn as sns\n",
    "import pandas as pd\n",
    "import numpy as np\n",
    "\n",
    "import time, math, statistics, random, scipy\n",
    "\n",
    "from ipywidgets import interact, fixed\n",
    "\n",
    "from scipy.stats import skewnorm\n",
    "\n",
    "%matplotlib inline"
   ]
  },
  {
   "cell_type": "markdown",
   "metadata": {
    "slideshow": {
     "slide_type": "slide"
    }
   },
   "source": [
    "# Measure of Spread"
   ]
  },
  {
   "cell_type": "code",
   "execution_count": 77,
   "metadata": {
    "slideshow": {
     "slide_type": "skip"
    }
   },
   "outputs": [],
   "source": [
    "y1 = list(np.random.normal(0,1,100))\n",
    "y2 = list(np.random.normal(0,5,100))"
   ]
  },
  {
   "cell_type": "code",
   "execution_count": 58,
   "metadata": {
    "slideshow": {
     "slide_type": "skip"
    }
   },
   "outputs": [],
   "source": [
    "def plot_distribution(y, name, extra_points = [], plot=sns.stripplot, size=(10,1), lims=True):\n",
    "    plt.figure(figsize=size)\n",
    "\n",
    "    ax = plot(y)\n",
    "    sns.rugplot(y)\n",
    "    \n",
    "    for x, color in extra_points:\n",
    "        ax.add_line(Axes.axvline(ax, x=x, c=color))\n",
    "    \n",
    "    if lims:\n",
    "        plt.xlim((-20,20))\n",
    "    plt.title(\"Distribution of Values For {}\".format(name))\n",
    "    plt.xlabel(\"value\");\n",
    "    \n",
    "    plt.show()"
   ]
  },
  {
   "cell_type": "markdown",
   "metadata": {
    "slideshow": {
     "slide_type": "slide"
    }
   },
   "source": [
    "## Example Datasets:"
   ]
  },
  {
   "cell_type": "code",
   "execution_count": 59,
   "metadata": {
    "slideshow": {
     "slide_type": "fragment"
    }
   },
   "outputs": [
    {
     "data": {
      "image/png": "[encoded data removed]",
      "text/plain": [
       "<matplotlib.figure.Figure at 0x2667c79a390>"
      ]
     },
     "metadata": {
      "needs_background": "light"
     },
     "output_type": "display_data"
    },
    {
     "data": {
      "image/png": "[encoded data removed]",
      "text/plain": [
       "<matplotlib.figure.Figure at 0x2667c79a470>"
      ]
     },
     "metadata": {
      "needs_background": "light"
     },
     "output_type": "display_data"
    },
    {
     "data": {
      "image/png": "[encoded data removed]",
      "text/plain": [
       "<matplotlib.figure.Figure at 0x2667cfd4390>"
      ]
     },
     "metadata": {
      "needs_background": "light"
     },
     "output_type": "display_data"
    }
   ],
   "source": [
    "plot_distribution(y1, \"y1\")\n",
    "plot_distribution(y2, \"y2\")\n",
    "\n",
    "plt.figure(figsize=(12,6))\n",
    "sns.distplot(y1); sns.distplot(y2); plt.legend([\"y1\", \"y2\"]); plt.title(\"Histograms of Y1, Y2\");"
   ]
  },
  {
   "cell_type": "code",
   "execution_count": 60,
   "metadata": {
    "scrolled": true,
    "slideshow": {
     "slide_type": "subslide"
    }
   },
   "outputs": [
    {
     "data": {
      "image/png": "[encoded data removed]",
      "text/plain": [
       "<matplotlib.figure.Figure at 0x2667c917048>"
      ]
     },
     "metadata": {
      "needs_background": "light"
     },
     "output_type": "display_data"
    },
    {
     "data": {
      "image/png": "[encoded data removed]",
      "text/plain": [
       "<matplotlib.figure.Figure at 0x2667c92d358>"
      ]
     },
     "metadata": {
      "needs_background": "light"
     },
     "output_type": "display_data"
    }
   ],
   "source": [
    "plot_distribution(y1, \"y1\", extra_points=[(y1[0], \"red\")])\n",
    "plot_distribution(y2, \"y2\", extra_points=[(y2[0], \"green\")]) "
   ]
  },
  {
   "cell_type": "code",
   "execution_count": 61,
   "metadata": {
    "slideshow": {
     "slide_type": "fragment"
    }
   },
   "outputs": [
    {
     "name": "stdout",
     "output_type": "stream",
     "text": [
      "Number incorrect loss for y1: 99 \n",
      "Number incorrect loss for y2: 99\n"
     ]
    }
   ],
   "source": [
    "# Mode could be any value\n",
    "print(\"Number incorrect loss for y1: {} \\nNumber incorrect loss for y2: {}\".format(\n",
    "    incorrect_loss(y1, y1[0]), incorrect_loss(y2, y2[0])))"
   ]
  },
  {
   "cell_type": "markdown",
   "metadata": {
    "slideshow": {
     "slide_type": "fragment"
    }
   },
   "source": [
    "## What is this value telling us?"
   ]
  },
  {
   "cell_type": "markdown",
   "metadata": {
    "slideshow": {
     "slide_type": "fragment"
    }
   },
   "source": [
    "### A: How many values aren't the mode"
   ]
  },
  {
   "cell_type": "code",
   "execution_count": 62,
   "metadata": {
    "slideshow": {
     "slide_type": "subslide"
    }
   },
   "outputs": [],
   "source": [
    "midrange1 = (min(y1) + max(y1)) / 2\n",
    "midrange2 = (min(y2) + max(y2)) / 2"
   ]
  },
  {
   "cell_type": "code",
   "execution_count": 63,
   "metadata": {
    "scrolled": true,
    "slideshow": {
     "slide_type": "fragment"
    }
   },
   "outputs": [
    {
     "data": {
      "image/png": "[encoded data removed]",
      "text/plain": [
       "<matplotlib.figure.Figure at 0x2667c5ab908>"
      ]
     },
     "metadata": {
      "needs_background": "light"
     },
     "output_type": "display_data"
    },
    {
     "data": {
      "image/png": "[encoded data removed]",
      "text/plain": [
       "<matplotlib.figure.Figure at 0x2667c79ac88>"
      ]
     },
     "metadata": {
      "needs_background": "light"
     },
     "output_type": "display_data"
    }
   ],
   "source": [
    "plot_distribution(y1, \"y1\", extra_points=[(midrange1, \"red\")])\n",
    "plot_distribution(y2, \"y2\", extra_points=[(midrange2, \"green\")])"
   ]
  },
  {
   "cell_type": "code",
   "execution_count": 64,
   "metadata": {
    "slideshow": {
     "slide_type": "fragment"
    }
   },
   "outputs": [
    {
     "name": "stdout",
     "output_type": "stream",
     "text": [
      "Furthest point loss for y1: 2.8415150585324955 \n",
      "Furthest point loss for y2: 12.62782259514487\n"
     ]
    }
   ],
   "source": [
    "print(\"Furthest point loss for y1: {} \\nFurthest point loss for y2: {}\".format(\n",
    "    furthest_point_loss(y1, midrange1), furthest_point_loss(y2, midrange2)))"
   ]
  },
  {
   "cell_type": "markdown",
   "metadata": {
    "slideshow": {
     "slide_type": "fragment"
    }
   },
   "source": [
    "## What is this value telling us?"
   ]
  },
  {
   "cell_type": "markdown",
   "metadata": {
    "slideshow": {
     "slide_type": "fragment"
    }
   },
   "source": [
    "### A: 1/2 * range"
   ]
  },
  {
   "cell_type": "code",
   "execution_count": 65,
   "metadata": {
    "scrolled": true,
    "slideshow": {
     "slide_type": "subslide"
    }
   },
   "outputs": [
    {
     "data": {
      "image/png": "[encoded data removed]",
      "text/plain": [
       "<matplotlib.figure.Figure at 0x2667c8f9b70>"
      ]
     },
     "metadata": {
      "needs_background": "light"
     },
     "output_type": "display_data"
    },
    {
     "data": {
      "image/png": "[encoded data removed]",
      "text/plain": [
       "<matplotlib.figure.Figure at 0x2667c8f90f0>"
      ]
     },
     "metadata": {
      "needs_background": "light"
     },
     "output_type": "display_data"
    }
   ],
   "source": [
    "plot_distribution(y1, \"y1\", extra_points=[(median(y1), \"red\")])\n",
    "plot_distribution(y2, \"y2\", extra_points=[(median(y2), \"green\")])"
   ]
  },
  {
   "cell_type": "code",
   "execution_count": 66,
   "metadata": {
    "slideshow": {
     "slide_type": "fragment"
    }
   },
   "outputs": [
    {
     "name": "stdout",
     "output_type": "stream",
     "text": [
      "Loss for y1: 123.77775893774968\n",
      "Loss for y2: 586.0236238903206\n"
     ]
    }
   ],
   "source": [
    "print(\"Loss for y1: {}\\nLoss for y2: {}\".format(mae_loss(y1, median(y1)), mae_loss(y2, median(y2))))"
   ]
  },
  {
   "cell_type": "markdown",
   "metadata": {
    "slideshow": {
     "slide_type": "fragment"
    }
   },
   "source": [
    "## What is this value telling us?"
   ]
  },
  {
   "cell_type": "markdown",
   "metadata": {
    "slideshow": {
     "slide_type": "fragment"
    }
   },
   "source": [
    "### A: mean absolute deviation from the median"
   ]
  },
  {
   "cell_type": "code",
   "execution_count": 67,
   "metadata": {
    "scrolled": true,
    "slideshow": {
     "slide_type": "subslide"
    }
   },
   "outputs": [
    {
     "data": {
      "image/png": "[encoded data removed]",
      "text/plain": [
       "<matplotlib.figure.Figure at 0x2667cc04940>"
      ]
     },
     "metadata": {
      "needs_background": "light"
     },
     "output_type": "display_data"
    },
    {
     "data": {
      "image/png": "[encoded data removed]",
      "text/plain": [
       "<matplotlib.figure.Figure at 0x2667d043be0>"
      ]
     },
     "metadata": {
      "needs_background": "light"
     },
     "output_type": "display_data"
    }
   ],
   "source": [
    "plot_distribution(y1, \"y1\", extra_points=[(mean(y1), \"red\")])\n",
    "plot_distribution(y2, \"y2\", extra_points=[(mean(y2), \"green\")])"
   ]
  },
  {
   "cell_type": "code",
   "execution_count": 68,
   "metadata": {
    "slideshow": {
     "slide_type": "fragment"
    }
   },
   "outputs": [
    {
     "name": "stdout",
     "output_type": "stream",
     "text": [
      "Loss for y1: 94.34944225367148\n",
      "Loss for y2: 2015.7994858161314\n"
     ]
    }
   ],
   "source": [
    "print(\"Loss for y1: {}\\nLoss for y2: {}\".format(mse_loss(y1, mean(y1)), mse_loss(y2, mean(y2))))"
   ]
  },
  {
   "cell_type": "markdown",
   "metadata": {
    "slideshow": {
     "slide_type": "fragment"
    }
   },
   "source": [
    "## What is this value telling us?"
   ]
  },
  {
   "cell_type": "markdown",
   "metadata": {
    "slideshow": {
     "slide_type": "fragment"
    }
   },
   "source": [
    "### A: mean squared deviation from the mean (AKA Variance)"
   ]
  },
  {
   "cell_type": "markdown",
   "metadata": {
    "slideshow": {
     "slide_type": "slide"
    }
   },
   "source": [
    "# Measuring Skew"
   ]
  },
  {
   "cell_type": "code",
   "execution_count": 69,
   "metadata": {
    "slideshow": {
     "slide_type": "skip"
    }
   },
   "outputs": [],
   "source": [
    "skewed = skewnorm.rvs(10, size=500)"
   ]
  },
  {
   "cell_type": "code",
   "execution_count": 70,
   "metadata": {
    "scrolled": false,
    "slideshow": {
     "slide_type": "subslide"
    }
   },
   "outputs": [
    {
     "data": {
      "image/png": "[encoded data removed]",
      "text/plain": [
       "<matplotlib.figure.Figure at 0x2667c86d128>"
      ]
     },
     "metadata": {
      "needs_background": "light"
     },
     "output_type": "display_data"
    },
    {
     "data": {
      "image/png": "[encoded data removed]",
      "text/plain": [
       "<matplotlib.figure.Figure at 0x2667c86d9b0>"
      ]
     },
     "metadata": {
      "needs_background": "light"
     },
     "output_type": "display_data"
    }
   ],
   "source": [
    "plot_distribution(skewed, \"skewed data\", lims=False, extra_points=[\n",
    "    (statistics.mean(skewed), \"red\"), (statistics.median(skewed), \"green\")])\n",
    "sns.distplot(skewed);"
   ]
  },
  {
   "cell_type": "markdown",
   "metadata": {
    "slideshow": {
     "slide_type": "fragment"
    }
   },
   "source": [
    "### What kind of skew is this?"
   ]
  },
  {
   "cell_type": "markdown",
   "metadata": {
    "slideshow": {
     "slide_type": "fragment"
    }
   },
   "source": [
    "### A: long right tailed/right skewed"
   ]
  },
  {
   "cell_type": "markdown",
   "metadata": {
    "slideshow": {
     "slide_type": "subslide"
    }
   },
   "source": [
    "## One of the better ways of measuring skew:\n",
    "![skew](./data/skew.png \"Formula\")\n",
    "\n",
    "### What do the resulting values mean?"
   ]
  },
  {
   "cell_type": "markdown",
   "metadata": {
    "slideshow": {
     "slide_type": "fragment"
    }
   },
   "source": [
    "negative: left skewed\n",
    "\n",
    "positive: right skewed\n",
    "\n",
    "0: no skew"
   ]
  },
  {
   "cell_type": "code",
   "execution_count": 71,
   "metadata": {
    "slideshow": {
     "slide_type": "subslide"
    }
   },
   "outputs": [],
   "source": [
    "def skew(y):\n",
    "    mean = sum(y) / len(y)\n",
    "    sd = statistics.stdev(skewed) # how would you code this without the built in function\n",
    "    return sum([((y_i - mean) / sd) **3 for y_i in skewed]) / len(skewed)"
   ]
  },
  {
   "cell_type": "code",
   "execution_count": 72,
   "metadata": {
    "slideshow": {
     "slide_type": "subslide"
    }
   },
   "outputs": [
    {
     "name": "stdout",
     "output_type": "stream",
     "text": [
      "skew: 1.0882483724077836\n"
     ]
    },
    {
     "data": {
      "image/png": "[encoded data removed]",
      "text/plain": [
       "<matplotlib.figure.Figure at 0x2667ccc17b8>"
      ]
     },
     "metadata": {
      "needs_background": "light"
     },
     "output_type": "display_data"
    }
   ],
   "source": [
    "sns.distplot(skewed)\n",
    "print(\"skew:\", skew(skewed))"
   ]
  },
  {
   "cell_type": "markdown",
   "metadata": {
    "slideshow": {
     "slide_type": "subslide"
    }
   },
   "source": [
    "# Different Skews"
   ]
  },
  {
   "cell_type": "code",
   "execution_count": 73,
   "metadata": {
    "slideshow": {
     "slide_type": "skip"
    }
   },
   "outputs": [],
   "source": [
    "skewed = skewnorm.rvs(0, size=500)"
   ]
  },
  {
   "cell_type": "code",
   "execution_count": 74,
   "metadata": {
    "slideshow": {
     "slide_type": "subslide"
    }
   },
   "outputs": [
    {
     "data": {
      "image/png": "[encoded data removed]",
      "text/plain": [
       "<matplotlib.figure.Figure at 0x2667cc96cc0>"
      ]
     },
     "metadata": {
      "needs_background": "light"
     },
     "output_type": "display_data"
    },
    {
     "data": {
      "image/png": "[encoded data removed]",
      "text/plain": [
       "<matplotlib.figure.Figure at 0x2667c5b1d68>"
      ]
     },
     "metadata": {
      "needs_background": "light"
     },
     "output_type": "display_data"
    }
   ],
   "source": [
    "plot_distribution(skewed, \"skewed data\", lims=False, extra_points=[\n",
    "    (statistics.mean(skewed), \"red\"), (statistics.median(skewed), \"green\")])\n",
    "sns.distplot(skewed);"
   ]
  },
  {
   "cell_type": "code",
   "execution_count": 75,
   "metadata": {
    "slideshow": {
     "slide_type": "fragment"
    }
   },
   "outputs": [
    {
     "name": "stdout",
     "output_type": "stream",
     "text": [
      "skew: 0.13086035390785275\n"
     ]
    }
   ],
   "source": [
    "print(\"skew:\", skew(skewed))"
   ]
  },
  {
   "cell_type": "code",
   "execution_count": 76,
   "metadata": {
    "slideshow": {
     "slide_type": "skip"
    }
   },
   "outputs": [],
   "source": [
    "skewed = skewnorm.rvs(-10, size=500)"
   ]
  },
  {
   "cell_type": "code",
   "execution_count": 77,
   "metadata": {
    "slideshow": {
     "slide_type": "subslide"
    }
   },
   "outputs": [
    {
     "data": {
      "image/png": "[encoded data removed]",
      "text/plain": [
       "<matplotlib.figure.Figure at 0x2667cb14a58>"
      ]
     },
     "metadata": {
      "needs_background": "light"
     },
     "output_type": "display_data"
    },
    {
     "data": {
      "image/png": "[encoded data removed]",
      "text/plain": [
       "<matplotlib.figure.Figure at 0x2667cf21080>"
      ]
     },
     "metadata": {
      "needs_background": "light"
     },
     "output_type": "display_data"
    }
   ],
   "source": [
    "plot_distribution(skewed, \"skewed data\", lims=False, extra_points=[\n",
    "    (statistics.mean(skewed), \"red\"), (statistics.median(skewed), \"green\")])\n",
    "sns.distplot(skewed);"
   ]
  },
  {
   "cell_type": "code",
   "execution_count": 78,
   "metadata": {
    "slideshow": {
     "slide_type": "fragment"
    }
   },
   "outputs": [
    {
     "name": "stdout",
     "output_type": "stream",
     "text": [
      "skew: -0.9305340730949627\n"
     ]
    }
   ],
   "source": [
    "print(\"skew:\", skew(skewed))"
   ]
  }
 ],
 "metadata": {
  "celltoolbar": "Slideshow",
  "kernelspec": {
   "display_name": "Python 3",
   "language": "python",
   "name": "python3"
  },
  "language_info": {
   "codemirror_mode": {
    "name": "ipython",
    "version": 3
   },
   "file_extension": ".py",
   "mimetype": "text/x-python",
   "name": "python",
   "nbconvert_exporter": "python",
   "pygments_lexer": "ipython3",
   "version": "3.6.7"
  }
 },
 "nbformat": 4,
 "nbformat_minor": 2
}
